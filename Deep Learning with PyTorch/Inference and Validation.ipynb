{
  "nbformat": 4,
  "nbformat_minor": 0,
  "metadata": {
    "colab": {
      "name": "Secure & Private AI-Udacity course- Part 5 - Inference and Validation (Exercises).ipynb",
      "version": "0.3.2",
      "provenance": [],
      "collapsed_sections": []
    },
    "language_info": {
      "codemirror_mode": {
        "name": "ipython",
        "version": 3
      },
      "file_extension": ".py",
      "mimetype": "text/x-python",
      "name": "python",
      "nbconvert_exporter": "python",
      "pygments_lexer": "ipython3",
      "version": "3.6.6"
    },
    "kernelspec": {
      "name": "python3",
      "display_name": "Python 3"
    },
    "accelerator": "GPU"
  },
  "cells": [
    {
      "cell_type": "markdown",
      "metadata": {
        "id": "ry0sDarm65YV",
        "colab_type": "text"
      },
      "source": [
        "# Inference and Validation\n",
        "\n",
        "Now that you have a trained network, you can use it for making predictions. This is typically called **inference**, a term borrowed from statistics. However, neural networks have a tendency to perform *too well* on the training data and aren't able to generalize to data that hasn't been seen before. This is called **overfitting** and it impairs inference performance. To test for overfitting while training, we measure the performance on data not in the training set called the **validation** set. We avoid overfitting through regularization such as dropout while monitoring the validation performance during training. In this notebook, I'll show you how to do this in PyTorch. \n",
        "\n",
        "As usual, let's start by loading the dataset through torchvision. You'll learn more about torchvision and loading data in a later part. This time we'll be taking advantage of the test set which you can get by setting `train=False` here:\n",
        "\n",
        "```python\n",
        "testset = datasets.FashionMNIST('~/.pytorch/F_MNIST_data/', download=True, train=False, transform=transform)\n",
        "```\n",
        "\n",
        "The test set contains images just like the training set. Typically you'll see 10-20% of the original dataset held out for testing and validation with the rest being used for training."
      ]
    },
    {
      "cell_type": "code",
      "metadata": {
        "id": "Xw_7Yf7v65Ye",
        "colab_type": "code",
        "outputId": "7021e574-018b-4245-e0c8-1915b392e597",
        "colab": {
          "base_uri": "https://localhost:8080/",
          "height": 275
        }
      },
      "source": [
        "import torch\n",
        "from torchvision import datasets, transforms\n",
        "\n",
        "# Define a transform to normalize the data\n",
        "transform = transforms.Compose([transforms.ToTensor(),\n",
        "                                transforms.Normalize((0.5,), (0.5,))])\n",
        "# Download and load the training data\n",
        "trainset = datasets.FashionMNIST('~/.pytorch/F_MNIST_data/', download=True, train=True, transform=transform)\n",
        "trainloader = torch.utils.data.DataLoader(trainset, batch_size=64, shuffle=True)\n",
        "\n",
        "# Download and load the test data\n",
        "testset = datasets.FashionMNIST('~/.pytorch/F_MNIST_data/', download=True, train=False, transform=transform)\n",
        "testloader = torch.utils.data.DataLoader(testset, batch_size=64, shuffle=True)"
      ],
      "execution_count": 0,
      "outputs": [
        {
          "output_type": "stream",
          "text": [
            "\r0it [00:00, ?it/s]"
          ],
          "name": "stderr"
        },
        {
          "output_type": "stream",
          "text": [
            "Downloading http://fashion-mnist.s3-website.eu-central-1.amazonaws.com/train-images-idx3-ubyte.gz to /root/.pytorch/F_MNIST_data/FashionMNIST/raw/train-images-idx3-ubyte.gz\n"
          ],
          "name": "stdout"
        },
        {
          "output_type": "stream",
          "text": [
            "26427392it [00:01, 14857494.50it/s]                             \n"
          ],
          "name": "stderr"
        },
        {
          "output_type": "stream",
          "text": [
            "Extracting /root/.pytorch/F_MNIST_data/FashionMNIST/raw/train-images-idx3-ubyte.gz\n"
          ],
          "name": "stdout"
        },
        {
          "output_type": "stream",
          "text": [
            "\r0it [00:00, ?it/s]"
          ],
          "name": "stderr"
        },
        {
          "output_type": "stream",
          "text": [
            "Downloading http://fashion-mnist.s3-website.eu-central-1.amazonaws.com/train-labels-idx1-ubyte.gz to /root/.pytorch/F_MNIST_data/FashionMNIST/raw/train-labels-idx1-ubyte.gz\n"
          ],
          "name": "stdout"
        },
        {
          "output_type": "stream",
          "text": [
            "32768it [00:00, 101173.96it/s]                           \n",
            "0it [00:00, ?it/s]"
          ],
          "name": "stderr"
        },
        {
          "output_type": "stream",
          "text": [
            "Extracting /root/.pytorch/F_MNIST_data/FashionMNIST/raw/train-labels-idx1-ubyte.gz\n",
            "Downloading http://fashion-mnist.s3-website.eu-central-1.amazonaws.com/t10k-images-idx3-ubyte.gz to /root/.pytorch/F_MNIST_data/FashionMNIST/raw/t10k-images-idx3-ubyte.gz\n"
          ],
          "name": "stdout"
        },
        {
          "output_type": "stream",
          "text": [
            "4423680it [00:01, 4229256.21it/s]                             \n",
            "0it [00:00, ?it/s]"
          ],
          "name": "stderr"
        },
        {
          "output_type": "stream",
          "text": [
            "Extracting /root/.pytorch/F_MNIST_data/FashionMNIST/raw/t10k-images-idx3-ubyte.gz\n",
            "Downloading http://fashion-mnist.s3-website.eu-central-1.amazonaws.com/t10k-labels-idx1-ubyte.gz to /root/.pytorch/F_MNIST_data/FashionMNIST/raw/t10k-labels-idx1-ubyte.gz\n"
          ],
          "name": "stdout"
        },
        {
          "output_type": "stream",
          "text": [
            "8192it [00:00, 36546.07it/s]            "
          ],
          "name": "stderr"
        },
        {
          "output_type": "stream",
          "text": [
            "Extracting /root/.pytorch/F_MNIST_data/FashionMNIST/raw/t10k-labels-idx1-ubyte.gz\n",
            "Processing...\n",
            "Done!\n"
          ],
          "name": "stdout"
        },
        {
          "output_type": "stream",
          "text": [
            "\n"
          ],
          "name": "stderr"
        }
      ]
    },
    {
      "cell_type": "markdown",
      "metadata": {
        "id": "pUh1_3dD65Yn",
        "colab_type": "text"
      },
      "source": [
        "Here I'll create a model like normal, using the same one from my solution for part 4."
      ]
    },
    {
      "cell_type": "code",
      "metadata": {
        "id": "218opYvm65Yq",
        "colab_type": "code",
        "colab": {}
      },
      "source": [
        "from torch import nn, optim\n",
        "import torch.nn.functional as F\n",
        "\n",
        "class Classifier(nn.Module):\n",
        "    def __init__(self):\n",
        "        super().__init__()\n",
        "        self.fc1 = nn.Linear(784, 256)\n",
        "        self.fc2 = nn.Linear(256, 128)\n",
        "        self.fc3 = nn.Linear(128, 64)\n",
        "        self.fc4 = nn.Linear(64, 10)\n",
        "        \n",
        "    def forward(self, x):\n",
        "        # make sure input tensor is flattened\n",
        "        x = x.view(x.shape[0], -1)\n",
        "        \n",
        "        x = F.relu(self.fc1(x))\n",
        "        x = F.relu(self.fc2(x))\n",
        "        x = F.relu(self.fc3(x))\n",
        "        x = F.log_softmax(self.fc4(x), dim=1)\n",
        "        \n",
        "        return x"
      ],
      "execution_count": 0,
      "outputs": []
    },
    {
      "cell_type": "markdown",
      "metadata": {
        "id": "qLgdbr7D65Yw",
        "colab_type": "text"
      },
      "source": [
        "The goal of validation is to measure the model's performance on data that isn't part of the training set. Performance here is up to the developer to define though. Typically this is just accuracy, the percentage of classes the network predicted correctly. Other options are [precision and recall](https://en.wikipedia.org/wiki/Precision_and_recall#Definition_(classification_context)) and top-5 error rate. We'll focus on accuracy here. First I'll do a forward pass with one batch from the test set."
      ]
    },
    {
      "cell_type": "code",
      "metadata": {
        "id": "chWseAie65Yy",
        "colab_type": "code",
        "outputId": "91ff8d1b-135b-47be-8756-05fb1159d9bc",
        "colab": {
          "base_uri": "https://localhost:8080/",
          "height": 34
        }
      },
      "source": [
        "model = Classifier()\n",
        "\n",
        "images, labels = next(iter(testloader))\n",
        "# Get the class probabilities\n",
        "ps = torch.exp(model(images))\n",
        "# Make sure the shape is appropriate, we should get 10 class probabilities for 64 examples\n",
        "print(ps.shape)"
      ],
      "execution_count": 0,
      "outputs": [
        {
          "output_type": "stream",
          "text": [
            "torch.Size([64, 10])\n"
          ],
          "name": "stdout"
        }
      ]
    },
    {
      "cell_type": "markdown",
      "metadata": {
        "id": "kU0K3tIZ65ZB",
        "colab_type": "text"
      },
      "source": [
        "With the probabilities, we can get the most likely class using the `ps.topk` method. This returns the $k$ highest values. Since we just want the most likely class, we can use `ps.topk(1)`. This returns a tuple of the top-$k$ values and the top-$k$ indices. If the highest value is the fifth element, we'll get back 4 as the index."
      ]
    },
    {
      "cell_type": "code",
      "metadata": {
        "id": "wVukI8Vu65ZD",
        "colab_type": "code",
        "outputId": "c84e8490-e44e-48bc-fbdf-3045a8799e57",
        "colab": {
          "base_uri": "https://localhost:8080/",
          "height": 187
        }
      },
      "source": [
        "top_p, top_class = ps.topk(1, dim=1)\n",
        "# Look at the most likely classes for the first 10 examples\n",
        "print(top_class[:10,:])"
      ],
      "execution_count": 0,
      "outputs": [
        {
          "output_type": "stream",
          "text": [
            "tensor([[3],\n",
            "        [3],\n",
            "        [3],\n",
            "        [3],\n",
            "        [3],\n",
            "        [3],\n",
            "        [1],\n",
            "        [3],\n",
            "        [3],\n",
            "        [3]])\n"
          ],
          "name": "stdout"
        }
      ]
    },
    {
      "cell_type": "markdown",
      "metadata": {
        "id": "0ZKrYC6R65ZO",
        "colab_type": "text"
      },
      "source": [
        "Now we can check if the predicted classes match the labels. This is simple to do by equating `top_class` and `labels`, but we have to be careful of the shapes. Here `top_class` is a 2D tensor with shape `(64, 1)` while `labels` is 1D with shape `(64)`. To get the equality to work out the way we want, `top_class` and `labels` must have the same shape.\n",
        "\n",
        "If we do\n",
        "\n",
        "```python\n",
        "equals = top_class == labels\n",
        "```\n",
        "\n",
        "`equals` will have shape `(64, 64)`, try it yourself. What it's doing is comparing the one element in each row of `top_class` with each element in `labels` which returns 64 True/False boolean values for each row."
      ]
    },
    {
      "cell_type": "code",
      "metadata": {
        "id": "J_xtocLc65ZQ",
        "colab_type": "code",
        "colab": {}
      },
      "source": [
        "equals = top_class == labels.view(*top_class.shape)"
      ],
      "execution_count": 0,
      "outputs": []
    },
    {
      "cell_type": "markdown",
      "metadata": {
        "id": "f9jC-gEk65ZV",
        "colab_type": "text"
      },
      "source": [
        "Now we need to calculate the percentage of correct predictions. `equals` has binary values, either 0 or 1. This means that if we just sum up all the values and divide by the number of values, we get the percentage of correct predictions. This is the same operation as taking the mean, so we can get the accuracy with a call to `torch.mean`. If only it was that simple. If you try `torch.mean(equals)`, you'll get an error\n",
        "\n",
        "```\n",
        "RuntimeError: mean is not implemented for type torch.ByteTensor\n",
        "```\n",
        "\n",
        "This happens because `equals` has type `torch.ByteTensor` but `torch.mean` isn't implemented for tensors with that type. So we'll need to convert `equals` to a float tensor. Note that when we take `torch.mean` it returns a scalar tensor, to get the actual value as a float we'll need to do `accuracy.item()`."
      ]
    },
    {
      "cell_type": "code",
      "metadata": {
        "id": "4swJRUjG65ZX",
        "colab_type": "code",
        "outputId": "7ef29709-2b89-4053-92a7-b593b4288471",
        "colab": {
          "base_uri": "https://localhost:8080/",
          "height": 34
        }
      },
      "source": [
        "accuracy = torch.mean(equals.type(torch.FloatTensor))\n",
        "print(f'Accuracy: {accuracy.item()*100}%')"
      ],
      "execution_count": 0,
      "outputs": [
        {
          "output_type": "stream",
          "text": [
            "Accuracy: 6.25%\n"
          ],
          "name": "stdout"
        }
      ]
    },
    {
      "cell_type": "markdown",
      "metadata": {
        "id": "C6otgftS65Zi",
        "colab_type": "text"
      },
      "source": [
        "The network is untrained so it's making random guesses and we should see an accuracy around 10%. Now let's train our network and include our validation pass so we can measure how well the network is performing on the test set. Since we're not updating our parameters in the validation pass, we can speed up our code by turning off gradients using `torch.no_grad()`:\n",
        "\n",
        "```python\n",
        "# turn off gradients\n",
        "with torch.no_grad():\n",
        "    # validation pass here\n",
        "    for images, labels in testloader:\n",
        "        ...\n",
        "```\n",
        "\n",
        ">**Exercise:** Implement the validation loop below and print out the total accuracy after the loop. You can largely copy and paste the code from above, but I suggest typing it in because writing it out yourself is essential for building the skill. In general you'll always learn more by typing it rather than copy-pasting. You should be able to get an accuracy above 80%."
      ]
    },
    {
      "cell_type": "code",
      "metadata": {
        "id": "X30YWH6L65Zk",
        "colab_type": "code",
        "outputId": "4f6a247f-5f39-45b5-fdb7-601e82be65b5",
        "colab": {
          "base_uri": "https://localhost:8080/",
          "height": 1037
        }
      },
      "source": [
        "model = Classifier()\n",
        "criterion = nn.NLLLoss()\n",
        "optimizer = optim.Adam(model.parameters(), lr=0.003)\n",
        "\n",
        "epochs = 30\n",
        "steps = 0\n",
        "\n",
        "train_losses, test_losses = [], []\n",
        "for e in range(epochs):\n",
        "    running_loss = 0\n",
        "    for images, labels in trainloader:\n",
        "        \n",
        "        optimizer.zero_grad()\n",
        "        \n",
        "        log_ps = model(images)\n",
        "        loss = criterion(log_ps, labels)\n",
        "        loss.backward()\n",
        "        optimizer.step()\n",
        "        \n",
        "        running_loss += loss.item()\n",
        "        \n",
        "    else:\n",
        "        test_loss=0\n",
        "        accuracy=0\n",
        "        ## TODO: Implement the validation pass and print out the validation accuracy\n",
        "        with torch.no_grad():\n",
        "          for images, labels in testloader:\n",
        "            log_ps =model(images)\n",
        "            test_loss+=criterion(log_ps, labels)\n",
        "            ps = torch.exp(log_ps)\n",
        "            top_k, top_class = ps.topk(1, dim=1)\n",
        "            equals = top_class == labels.view(*top_class.shape)\n",
        "            accuracy += torch.mean(equals.type(torch.FloatTensor))\n",
        "            \n",
        "        train_losses.append(running_loss/len(trainloader))\n",
        "        test_losses.append(test_loss/len(testloader))\n",
        "          \n",
        "        print(\"Epoch: {}/{}..\".format(e+1, epochs),\n",
        "             \"Training Loss: {:.3f}..\".format(running_loss/len(trainloader)),\n",
        "             \"Test Loss: {:.3f}..\".format(test_loss/len(testloader)),\n",
        "             \"Test Accuracy: {:.3f}\".format(accuracy/len(testloader)))\n",
        "            \n",
        "        #print(f'Accuracy: {accuracy.item()*100}%')"
      ],
      "execution_count": 0,
      "outputs": [
        {
          "output_type": "stream",
          "text": [
            "Epoch: 1/30.. Training Loss: 0.509.. Test Loss: 0.447.. Test Accuracy: 0.836\n",
            "Accuracy: 13128.125%\n",
            "Epoch: 2/30.. Training Loss: 0.388.. Test Loss: 0.416.. Test Accuracy: 0.851\n",
            "Accuracy: 13362.5%\n",
            "Epoch: 3/30.. Training Loss: 0.351.. Test Loss: 0.376.. Test Accuracy: 0.864\n",
            "Accuracy: 13562.5%\n",
            "Epoch: 4/30.. Training Loss: 0.331.. Test Loss: 0.375.. Test Accuracy: 0.865\n",
            "Accuracy: 13584.375%\n",
            "Epoch: 5/30.. Training Loss: 0.316.. Test Loss: 0.374.. Test Accuracy: 0.870\n",
            "Accuracy: 13662.5%\n",
            "Epoch: 6/30.. Training Loss: 0.303.. Test Loss: 0.369.. Test Accuracy: 0.868\n",
            "Accuracy: 13629.6875%\n",
            "Epoch: 7/30.. Training Loss: 0.291.. Test Loss: 0.371.. Test Accuracy: 0.867\n",
            "Accuracy: 13618.75%\n",
            "Epoch: 8/30.. Training Loss: 0.282.. Test Loss: 0.364.. Test Accuracy: 0.871\n",
            "Accuracy: 13675.0%\n",
            "Epoch: 9/30.. Training Loss: 0.275.. Test Loss: 0.358.. Test Accuracy: 0.874\n",
            "Accuracy: 13718.75%\n",
            "Epoch: 10/30.. Training Loss: 0.264.. Test Loss: 0.345.. Test Accuracy: 0.881\n",
            "Accuracy: 13826.5625%\n",
            "Epoch: 11/30.. Training Loss: 0.260.. Test Loss: 0.423.. Test Accuracy: 0.865\n",
            "Accuracy: 13587.5%\n",
            "Epoch: 12/30.. Training Loss: 0.254.. Test Loss: 0.361.. Test Accuracy: 0.875\n",
            "Accuracy: 13735.9375%\n",
            "Epoch: 13/30.. Training Loss: 0.245.. Test Loss: 0.397.. Test Accuracy: 0.873\n",
            "Accuracy: 13704.6875%\n",
            "Epoch: 14/30.. Training Loss: 0.242.. Test Loss: 0.350.. Test Accuracy: 0.883\n",
            "Accuracy: 13870.3125%\n",
            "Epoch: 15/30.. Training Loss: 0.237.. Test Loss: 0.363.. Test Accuracy: 0.884\n",
            "Accuracy: 13876.5625%\n",
            "Epoch: 16/30.. Training Loss: 0.231.. Test Loss: 0.380.. Test Accuracy: 0.879\n",
            "Accuracy: 13804.6875%\n",
            "Epoch: 17/30.. Training Loss: 0.229.. Test Loss: 0.386.. Test Accuracy: 0.878\n",
            "Accuracy: 13787.5%\n",
            "Epoch: 18/30.. Training Loss: 0.227.. Test Loss: 0.383.. Test Accuracy: 0.875\n",
            "Accuracy: 13732.8125%\n",
            "Epoch: 19/30.. Training Loss: 0.221.. Test Loss: 0.391.. Test Accuracy: 0.879\n",
            "Accuracy: 13806.25%\n",
            "Epoch: 20/30.. Training Loss: 0.222.. Test Loss: 0.382.. Test Accuracy: 0.880\n",
            "Accuracy: 13810.9375%\n",
            "Epoch: 21/30.. Training Loss: 0.211.. Test Loss: 0.391.. Test Accuracy: 0.880\n",
            "Accuracy: 13818.75%\n",
            "Epoch: 22/30.. Training Loss: 0.212.. Test Loss: 0.386.. Test Accuracy: 0.884\n",
            "Accuracy: 13873.4375%\n",
            "Epoch: 23/30.. Training Loss: 0.207.. Test Loss: 0.376.. Test Accuracy: 0.884\n",
            "Accuracy: 13873.4375%\n",
            "Epoch: 24/30.. Training Loss: 0.202.. Test Loss: 0.391.. Test Accuracy: 0.880\n",
            "Accuracy: 13818.75%\n",
            "Epoch: 25/30.. Training Loss: 0.203.. Test Loss: 0.396.. Test Accuracy: 0.878\n",
            "Accuracy: 13792.1875%\n",
            "Epoch: 26/30.. Training Loss: 0.195.. Test Loss: 0.401.. Test Accuracy: 0.884\n",
            "Accuracy: 13875.0%\n",
            "Epoch: 27/30.. Training Loss: 0.189.. Test Loss: 0.408.. Test Accuracy: 0.885\n",
            "Accuracy: 13890.625%\n",
            "Epoch: 28/30.. Training Loss: 0.192.. Test Loss: 0.381.. Test Accuracy: 0.882\n",
            "Accuracy: 13850.0%\n",
            "Epoch: 29/30.. Training Loss: 0.189.. Test Loss: 0.403.. Test Accuracy: 0.886\n",
            "Accuracy: 13912.5%\n",
            "Epoch: 30/30.. Training Loss: 0.192.. Test Loss: 0.404.. Test Accuracy: 0.884\n",
            "Accuracy: 13875.0%\n"
          ],
          "name": "stdout"
        }
      ]
    },
    {
      "cell_type": "code",
      "metadata": {
        "id": "l_jpUkLkb88r",
        "colab_type": "code",
        "outputId": "adbc90bd-9481-43da-d7b5-63d9b3b01f23",
        "colab": {
          "base_uri": "https://localhost:8080/",
          "height": 284
        }
      },
      "source": [
        "%matplotlib inline\n",
        "%config InlineBackend.figure_format = 'retina'\n",
        "\n",
        "import matplotlib.pyplot as plt\n",
        "\n",
        "plt.plot(train_losses, label='Training loss')\n",
        "plt.plot(test_losses, label='Validation loss')\n",
        "plt.legend(frameon=False)"
      ],
      "execution_count": 0,
      "outputs": [
        {
          "output_type": "execute_result",
          "data": {
            "text/plain": [
              "<matplotlib.legend.Legend at 0x7f17288e50f0>"
            ]
          },
          "metadata": {
            "tags": []
          },
          "execution_count": 10
        },
        {
          "output_type": "display_data",
          "data": {
            "image/png": "[encoded data removed]",
            "text/plain": [
              "<Figure size 432x288 with 1 Axes>"
            ]
          },
          "metadata": {
            "tags": [],
            "image/png": {
              "width": 380,
              "height": 250
            }
          }
        }
      ]
    },
    {
      "cell_type": "markdown",
      "metadata": {
        "id": "Q1SxLcHA65Zq",
        "colab_type": "text"
      },
      "source": [
        "## Overfitting\n",
        "\n",
        "If we look at the training and validation losses as we train the network, we can see a phenomenon known as overfitting.\n",
        "\n",
        "<img src='https://github.com/udacity/deep-learning-v2-pytorch/blob/master/intro-to-pytorch/assets/overfitting.png?raw=1' width=450px>\n",
        "\n",
        "The network learns the training set better and better, resulting in lower training losses. However, it starts having problems generalizing to data outside the training set leading to the validation loss increasing. The ultimate goal of any deep learning model is to make predictions on new data, so we should strive to get the lowest validation loss possible. One option is to use the version of the model with the lowest validation loss, here the one around 8-10 training epochs. This strategy is called *early-stopping*. In practice, you'd save the model frequently as you're training then later choose the model with the lowest validation loss.\n",
        "\n",
        "The most common method to reduce overfitting (outside of early-stopping) is *dropout*, where we randomly drop input units. This forces the network to share information between weights, increasing it's ability to generalize to new data. Adding dropout in PyTorch is straightforward using the [`nn.Dropout`](https://pytorch.org/docs/stable/nn.html#torch.nn.Dropout) module.\n",
        "\n",
        "```python\n",
        "class Classifier(nn.Module):\n",
        "    def __init__(self):\n",
        "        super().__init__()\n",
        "        self.fc1 = nn.Linear(784, 256)\n",
        "        self.fc2 = nn.Linear(256, 128)\n",
        "        self.fc3 = nn.Linear(128, 64)\n",
        "        self.fc4 = nn.Linear(64, 10)\n",
        "        \n",
        "        # Dropout module with 0.2 drop probability\n",
        "        self.dropout = nn.Dropout(p=0.2)\n",
        "        \n",
        "    def forward(self, x):\n",
        "        # make sure input tensor is flattened\n",
        "        x = x.view(x.shape[0], -1)\n",
        "        \n",
        "        # Now with dropout\n",
        "        x = self.dropout(F.relu(self.fc1(x)))\n",
        "        x = self.dropout(F.relu(self.fc2(x)))\n",
        "        x = self.dropout(F.relu(self.fc3(x)))\n",
        "        \n",
        "        # output so no dropout here\n",
        "        x = F.log_softmax(self.fc4(x), dim=1)\n",
        "        \n",
        "        return x\n",
        "```\n",
        "\n",
        "During training we want to use dropout to prevent overfitting, but during inference we want to use the entire network. So, we need to turn off dropout during validation, testing, and whenever we're using the network to make predictions. To do this, you use `model.eval()`. This sets the model to evaluation mode where the dropout probability is 0. You can turn dropout back on by setting the model to train mode with `model.train()`. In general, the pattern for the validation loop will look like this, where you turn off gradients, set the model to evaluation mode, calculate the validation loss and metric, then set the model back to train mode.\n",
        "\n",
        "```python\n",
        "# turn off gradients\n",
        "with torch.no_grad():\n",
        "    \n",
        "    # set model to evaluation mode\n",
        "    model.eval()\n",
        "    \n",
        "    # validation pass here\n",
        "    for images, labels in testloader:\n",
        "        ...\n",
        "\n",
        "# set model back to train mode\n",
        "model.train()\n",
        "```"
      ]
    },
    {
      "cell_type": "markdown",
      "metadata": {
        "id": "pe7L46-165Zs",
        "colab_type": "text"
      },
      "source": [
        "> **Exercise:** Add dropout to your model and train it on Fashion-MNIST again. See if you can get a lower validation loss or higher accuracy."
      ]
    },
    {
      "cell_type": "code",
      "metadata": {
        "id": "IF6-70cV65Zu",
        "colab_type": "code",
        "colab": {}
      },
      "source": [
        "## TODO: Define your model with dropout added\n",
        "from torch import nn, optim\n",
        "model=nn.Sequential(nn.Linear(784,256),\n",
        "                   nn.ReLU(),\n",
        "                   nn.Dropout(p=0.2),\n",
        "                   nn.Linear(256,128),\n",
        "                   nn.ReLU(),\n",
        "                   nn.Dropout(p=0.2),\n",
        "                   nn.Linear(128,64),\n",
        "                   nn.ReLU(),\n",
        "                   nn.Dropout(p=0.2),\n",
        "                   nn.Linear(64,10),\n",
        "                   nn.LogSoftmax(dim=1))\n",
        "\n",
        "criterion = nn.NLLLoss()\n",
        "\n",
        "optimizer = optim.Adam(model.parameters(), lr=0.003)\n"
      ],
      "execution_count": 0,
      "outputs": []
    },
    {
      "cell_type": "code",
      "metadata": {
        "id": "3G7yY5VN65Z4",
        "colab_type": "code",
        "outputId": "963fccfc-31ac-427e-ca59-d19e6688d657",
        "colab": {
          "base_uri": "https://localhost:8080/",
          "height": 527
        }
      },
      "source": [
        "## TODO: Train your model with dropout, and monitor the training progress with the validation loss and accuracy\n",
        "epochs=30\n",
        "steps=0\n",
        "train_losses, test_losses = [], []\n",
        "for e in range(epochs):\n",
        "  running_loss=0\n",
        "  for images, labels in trainloader:\n",
        "    images = images.view(images.shape[0], -1)\n",
        "    optimizer.zero_grad()\n",
        "    log_ps=model(images)\n",
        "    loss=criterion(log_ps, labels)\n",
        "    loss.backward()\n",
        "    optimizer.step()\n",
        "    \n",
        "    running_loss+=loss.item()\n",
        "    \n",
        "  else:\n",
        "    test_loss=0\n",
        "    accuracy=0\n",
        "    \n",
        "    with torch.no_grad():\n",
        "      model.eval()\n",
        "      for images, labels in testloader:\n",
        "        images = images.view(images.shape[0], -1)\n",
        "        log_ps=model(images)\n",
        "        test_loss += criterion(log_ps, labels)\n",
        "        ps=torch.exp(log_ps)\n",
        "        top_p, top_class = ps.topk(1, dim=1)\n",
        "        equals = top_class == labels.view(*top_class.shape)\n",
        "        accuracy += torch.mean(equals.type(torch.FloatTensor))\n",
        "        \n",
        "    model.train()\n",
        "    train_losses.append(running_loss/len(trainloader))\n",
        "    test_losses.append(test_loss/len(testloader))\n",
        "\n",
        "    print(\"Epoch: {}/{}.. \".format(e+1, epochs),\n",
        "              \"Training Loss: {:.3f}.. \".format(train_losses[-1]),\n",
        "              \"Test Loss: {:.3f}.. \".format(test_losses[-1]),\n",
        "              \"Test Accuracy: {:.3f}\".format(accuracy/len(testloader)))\n",
        "    "
      ],
      "execution_count": 0,
      "outputs": [
        {
          "output_type": "stream",
          "text": [
            "Epoch: 1/30..  Training Loss: 0.406..  Test Loss: 0.438..  Test Accuracy: 0.836\n",
            "Epoch: 2/30..  Training Loss: 0.462..  Test Loss: 0.408..  Test Accuracy: 0.856\n",
            "Epoch: 3/30..  Training Loss: 0.442..  Test Loss: 0.434..  Test Accuracy: 0.850\n",
            "Epoch: 4/30..  Training Loss: 0.432..  Test Loss: 0.399..  Test Accuracy: 0.853\n",
            "Epoch: 5/30..  Training Loss: 0.416..  Test Loss: 0.385..  Test Accuracy: 0.863\n",
            "Epoch: 6/30..  Training Loss: 0.406..  Test Loss: 0.402..  Test Accuracy: 0.856\n",
            "Epoch: 7/30..  Training Loss: 0.398..  Test Loss: 0.398..  Test Accuracy: 0.861\n",
            "Epoch: 8/30..  Training Loss: 0.398..  Test Loss: 0.398..  Test Accuracy: 0.861\n",
            "Epoch: 9/30..  Training Loss: 0.388..  Test Loss: 0.405..  Test Accuracy: 0.860\n",
            "Epoch: 10/30..  Training Loss: 0.395..  Test Loss: 0.382..  Test Accuracy: 0.869\n",
            "Epoch: 11/30..  Training Loss: 0.386..  Test Loss: 0.394..  Test Accuracy: 0.864\n",
            "Epoch: 12/30..  Training Loss: 0.374..  Test Loss: 0.384..  Test Accuracy: 0.868\n",
            "Epoch: 13/30..  Training Loss: 0.377..  Test Loss: 0.377..  Test Accuracy: 0.867\n",
            "Epoch: 14/30..  Training Loss: 0.375..  Test Loss: 0.381..  Test Accuracy: 0.868\n",
            "Epoch: 15/30..  Training Loss: 0.376..  Test Loss: 0.388..  Test Accuracy: 0.863\n",
            "Epoch: 16/30..  Training Loss: 0.367..  Test Loss: 0.387..  Test Accuracy: 0.864\n",
            "Epoch: 17/30..  Training Loss: 0.359..  Test Loss: 0.387..  Test Accuracy: 0.871\n",
            "Epoch: 18/30..  Training Loss: 0.368..  Test Loss: 0.378..  Test Accuracy: 0.869\n",
            "Epoch: 19/30..  Training Loss: 0.360..  Test Loss: 0.392..  Test Accuracy: 0.863\n",
            "Epoch: 20/30..  Training Loss: 0.359..  Test Loss: 0.386..  Test Accuracy: 0.869\n",
            "Epoch: 21/30..  Training Loss: 0.360..  Test Loss: 0.395..  Test Accuracy: 0.866\n",
            "Epoch: 22/30..  Training Loss: 0.354..  Test Loss: 0.397..  Test Accuracy: 0.867\n",
            "Epoch: 23/30..  Training Loss: 0.354..  Test Loss: 0.389..  Test Accuracy: 0.867\n",
            "Epoch: 24/30..  Training Loss: 0.361..  Test Loss: 0.383..  Test Accuracy: 0.870\n",
            "Epoch: 25/30..  Training Loss: 0.344..  Test Loss: 0.367..  Test Accuracy: 0.875\n",
            "Epoch: 26/30..  Training Loss: 0.348..  Test Loss: 0.369..  Test Accuracy: 0.877\n",
            "Epoch: 27/30..  Training Loss: 0.345..  Test Loss: 0.374..  Test Accuracy: 0.873\n",
            "Epoch: 28/30..  Training Loss: 0.346..  Test Loss: 0.365..  Test Accuracy: 0.876\n",
            "Epoch: 29/30..  Training Loss: 0.348..  Test Loss: 0.385..  Test Accuracy: 0.878\n",
            "Epoch: 30/30..  Training Loss: 0.346..  Test Loss: 0.365..  Test Accuracy: 0.872\n"
          ],
          "name": "stdout"
        }
      ]
    },
    {
      "cell_type": "code",
      "metadata": {
        "id": "6J_L9HvIo_4Q",
        "colab_type": "code",
        "outputId": "c04c8e5e-1f14-41b5-e16c-4e6d3050363d",
        "colab": {
          "base_uri": "https://localhost:8080/",
          "height": 284
        }
      },
      "source": [
        "%matplotlib inline\n",
        "%config InlineBackend.figure_format = 'retina'\n",
        "\n",
        "import matplotlib.pyplot as plt\n",
        "\n",
        "plt.plot(train_losses, label='Training loss')\n",
        "plt.plot(test_losses, label='Validation loss')\n",
        "plt.legend(frameon=False)"
      ],
      "execution_count": 0,
      "outputs": [
        {
          "output_type": "execute_result",
          "data": {
            "text/plain": [
              "<matplotlib.legend.Legend at 0x7f0968de30f0>"
            ]
          },
          "metadata": {
            "tags": []
          },
          "execution_count": 9
        },
        {
          "output_type": "display_data",
          "data": {
            "image/png": "[encoded data removed]",
            "text/plain": [
              "<Figure size 432x288 with 1 Axes>"
            ]
          },
          "metadata": {
            "tags": [],
            "image/png": {
              "width": 380,
              "height": 250
            }
          }
        }
      ]
    },
    {
      "cell_type": "code",
      "metadata": {
        "id": "47OdsahEsTL0",
        "colab_type": "code",
        "colab": {}
      },
      "source": [
        "import matplotlib.pyplot as plt\n",
        "import numpy as np\n",
        "from torch import nn, optim\n",
        "from torch.autograd import Variable\n",
        "\n",
        "class helper:\n",
        "  def test_network(net, trainloader):\n",
        "\n",
        "      criterion = nn.MSELoss()\n",
        "      optimizer = optim.Adam(net.parameters(), lr=0.001)\n",
        "\n",
        "      dataiter = iter(trainloader)\n",
        "      images, labels = dataiter.next()\n",
        "\n",
        "      # Create Variables for the inputs and targets\n",
        "      inputs = Variable(images)\n",
        "      targets = Variable(images)\n",
        "\n",
        "      # Clear the gradients from all Variables\n",
        "      optimizer.zero_grad()\n",
        "\n",
        "      # Forward pass, then backward pass, then update weights\n",
        "      output = net.forward(inputs)\n",
        "      loss = criterion(output, targets)\n",
        "      loss.backward()\n",
        "      optimizer.step()\n",
        "\n",
        "      return True\n",
        "\n",
        "\n",
        "  def imshow(image, ax=None, title=None, normalize=True):\n",
        "      \"\"\"Imshow for Tensor.\"\"\"\n",
        "      if ax is None:\n",
        "          fig, ax = plt.subplots()\n",
        "      image = image.numpy().transpose((1, 2, 0))\n",
        "\n",
        "      if normalize:\n",
        "          mean = np.array([0.485, 0.456, 0.406])\n",
        "          std = np.array([0.229, 0.224, 0.225])\n",
        "          image = std * image + mean\n",
        "          image = np.clip(image, 0, 1)\n",
        "\n",
        "      ax.imshow(image)\n",
        "      ax.spines['top'].set_visible(False)\n",
        "      ax.spines['right'].set_visible(False)\n",
        "      ax.spines['left'].set_visible(False)\n",
        "      ax.spines['bottom'].set_visible(False)\n",
        "      ax.tick_params(axis='both', length=0)\n",
        "      ax.set_xticklabels('')\n",
        "      ax.set_yticklabels('')\n",
        "\n",
        "      return ax\n",
        "\n",
        "\n",
        "  def view_recon(img, recon):\n",
        "      ''' Function for displaying an image (as a PyTorch Tensor) and its\n",
        "          reconstruction also a PyTorch Tensor\n",
        "      '''\n",
        "\n",
        "      fig, axes = plt.subplots(ncols=2, sharex=True, sharey=True)\n",
        "      axes[0].imshow(img.numpy().squeeze())\n",
        "      axes[1].imshow(recon.data.numpy().squeeze())\n",
        "      for ax in axes:\n",
        "          ax.axis('off')\n",
        "          ax.set_adjustable('box-forced')\n",
        "\n",
        "  def view_classify(img, ps, version=\"MNIST\"):\n",
        "      ''' Function for viewing an image and it's predicted classes.\n",
        "      '''\n",
        "      ps = ps.data.numpy().squeeze()\n",
        "\n",
        "      fig, (ax1, ax2) = plt.subplots(figsize=(6,9), ncols=2)\n",
        "      ax1.imshow(img.resize_(1, 28, 28).numpy().squeeze())\n",
        "      ax1.axis('off')\n",
        "      ax2.barh(np.arange(10), ps)\n",
        "      ax2.set_aspect(0.1)\n",
        "      ax2.set_yticks(np.arange(10))\n",
        "      if version == \"MNIST\":\n",
        "          ax2.set_yticklabels(np.arange(10))\n",
        "      elif version == \"Fashion\":\n",
        "          ax2.set_yticklabels(['T-shirt/top',\n",
        "                              'Trouser',\n",
        "                              'Pullover',\n",
        "                              'Dress',\n",
        "                              'Coat',\n",
        "                              'Sandal',\n",
        "                              'Shirt',\n",
        "                              'Sneaker',\n",
        "                              'Bag',\n",
        "                              'Ankle Boot'], size='small');\n",
        "      ax2.set_title('Class Probability')\n",
        "      ax2.set_xlim(0, 1.1)\n",
        "\n",
        "      plt.tight_layout()"
      ],
      "execution_count": 0,
      "outputs": []
    },
    {
      "cell_type": "markdown",
      "metadata": {
        "id": "DtnMr_su65aA",
        "colab_type": "text"
      },
      "source": [
        "## Inference\n",
        "\n",
        "Now that the model is trained, we can use it for inference. We've done this before, but now we need to remember to set the model in inference mode with `model.eval()`. You'll also want to turn off autograd with the `torch.no_grad()` context."
      ]
    },
    {
      "cell_type": "code",
      "metadata": {
        "id": "_o5OKXx065aB",
        "colab_type": "code",
        "outputId": "325cd555-f356-415b-a372-9703d9b7d6ad",
        "colab": {
          "base_uri": "https://localhost:8080/",
          "height": 197
        }
      },
      "source": [
        "# Import helper module (should be in the repo)\n",
        "#import helper\n",
        "\n",
        "# Test out your network!\n",
        "\n",
        "model.eval()\n",
        "\n",
        "dataiter = iter(testloader)\n",
        "images, labels = dataiter.next()\n",
        "img = images[0]\n",
        "# Convert 2D image to 1D vector\n",
        "img = img.view(1, 784)\n",
        "\n",
        "# Calculate the class probabilities (softmax) for img\n",
        "with torch.no_grad():\n",
        "    output = model.forward(img)\n",
        "\n",
        "ps = torch.exp(output)\n",
        "\n",
        "# Plot the image and probabilities\n",
        "helper.view_classify(img.view(1, 28, 28), ps, version='Fashion')"
      ],
      "execution_count": 0,
      "outputs": [
        {
          "output_type": "error",
          "ename": "AttributeError",
          "evalue": "ignored",
          "traceback": [
            "\u001b[0;31m---------------------------------------------------------------------------\u001b[0m",
            "\u001b[0;31mAttributeError\u001b[0m                            Traceback (most recent call last)",
            "\u001b[0;32m<ipython-input-14-596150a47b43>\u001b[0m in \u001b[0;36m<module>\u001b[0;34m()\u001b[0m\n\u001b[1;32m     18\u001b[0m \u001b[0;34m\u001b[0m\u001b[0m\n\u001b[1;32m     19\u001b[0m \u001b[0;31m# Plot the image and probabilities\u001b[0m\u001b[0;34m\u001b[0m\u001b[0;34m\u001b[0m\u001b[0;34m\u001b[0m\u001b[0m\n\u001b[0;32m---> 20\u001b[0;31m \u001b[0mhelper\u001b[0m\u001b[0;34m.\u001b[0m\u001b[0mview_classify\u001b[0m\u001b[0;34m(\u001b[0m\u001b[0mimg\u001b[0m\u001b[0;34m.\u001b[0m\u001b[0mview\u001b[0m\u001b[0;34m(\u001b[0m\u001b[0;36m1\u001b[0m\u001b[0;34m,\u001b[0m \u001b[0;36m28\u001b[0m\u001b[0;34m,\u001b[0m \u001b[0;36m28\u001b[0m\u001b[0;34m)\u001b[0m\u001b[0;34m,\u001b[0m \u001b[0mps\u001b[0m\u001b[0;34m,\u001b[0m \u001b[0mversion\u001b[0m\u001b[0;34m=\u001b[0m\u001b[0;34m'Fashion'\u001b[0m\u001b[0;34m)\u001b[0m\u001b[0;34m\u001b[0m\u001b[0;34m\u001b[0m\u001b[0m\n\u001b[0m",
            "\u001b[0;31mAttributeError\u001b[0m: module 'helper' has no attribute 'view_classify'"
          ]
        }
      ]
    },
    {
      "cell_type": "markdown",
      "metadata": {
        "id": "5OKLwRko65aK",
        "colab_type": "text"
      },
      "source": [
        "## Next Up!\n",
        "\n",
        "In the next part, I'll show you how to save your trained models. In general, you won't want to train a model everytime you need it. Instead, you'll train once, save it, then load the model when you want to train more or use if for inference."
      ]
    }
  ]
}