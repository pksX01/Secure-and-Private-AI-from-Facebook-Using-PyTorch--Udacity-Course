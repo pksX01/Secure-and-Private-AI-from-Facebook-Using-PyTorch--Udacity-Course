{
  "nbformat": 4,
  "nbformat_minor": 0,
  "metadata": {
    "colab": {
      "name": "Secure & Private AI - Udacity course- Part 4 - Fashion-MNIST (Exercises).ipynb",
      "version": "0.3.2",
      "provenance": [],
      "toc_visible": true
    },
    "language_info": {
      "codemirror_mode": {
        "name": "ipython",
        "version": 3
      },
      "file_extension": ".py",
      "mimetype": "text/x-python",
      "name": "python",
      "nbconvert_exporter": "python",
      "pygments_lexer": "ipython3",
      "version": "3.6.7"
    },
    "kernelspec": {
      "name": "python3",
      "display_name": "Python 3"
    },
    "accelerator": "GPU"
  },
  "cells": [
    {
      "cell_type": "markdown",
      "metadata": {
        "id": "fUVp1GtNbkNy",
        "colab_type": "text"
      },
      "source": [
        "# Classifying Fashion-MNIST\n",
        "\n",
        "Now it's your turn to build and train a neural network. You'll be using the [Fashion-MNIST dataset](https://github.com/zalandoresearch/fashion-mnist), a drop-in replacement for the MNIST dataset. MNIST is actually quite trivial with neural networks where you can easily achieve better than 97% accuracy. Fashion-MNIST is a set of 28x28 greyscale images of clothes. It's more complex than MNIST, so it's a better representation of the actual performance of your network, and a better representation of datasets you'll use in the real world.\n",
        "\n",
        "<img src='https://github.com/udacity/deep-learning-v2-pytorch/blob/master/intro-to-pytorch/assets/fashion-mnist-sprite.png?raw=1' width=500px>\n",
        "\n",
        "In this notebook, you'll build your own neural network. For the most part, you could just copy and paste the code from Part 3, but you wouldn't be learning. It's important for you to write the code yourself and get it to work. Feel free to consult the previous notebooks though as you work through this.\n",
        "\n",
        "First off, let's load the dataset through torchvision."
      ]
    },
    {
      "cell_type": "code",
      "metadata": {
        "id": "SNvzwWGkbkN7",
        "colab_type": "code",
        "outputId": "36679e8f-f87e-43c8-fe47-7e3741d0845b",
        "colab": {
          "base_uri": "https://localhost:8080/",
          "height": 275
        }
      },
      "source": [
        "import torch\n",
        "from torchvision import datasets, transforms\n",
        "import helper\n",
        "\n",
        "# Define a transform to normalize the data\n",
        "transform = transforms.Compose([transforms.ToTensor(),\n",
        "                                transforms.Normalize((0.5,), (0.5,))])\n",
        "# Download and load the training data\n",
        "trainset = datasets.FashionMNIST('~/.pytorch/F_MNIST_data/', download=True, train=True, transform=transform)\n",
        "trainloader = torch.utils.data.DataLoader(trainset, batch_size=64, shuffle=True)\n",
        "\n",
        "# Download and load the test data\n",
        "testset = datasets.FashionMNIST('~/.pytorch/F_MNIST_data/', download=True, train=False, transform=transform)\n",
        "testloader = torch.utils.data.DataLoader(testset, batch_size=64, shuffle=True)"
      ],
      "execution_count": 0,
      "outputs": [
        {
          "output_type": "stream",
          "text": [
            "\r0it [00:00, ?it/s]"
          ],
          "name": "stderr"
        },
        {
          "output_type": "stream",
          "text": [
            "Downloading http://fashion-mnist.s3-website.eu-central-1.amazonaws.com/train-images-idx3-ubyte.gz to /root/.pytorch/F_MNIST_data/FashionMNIST/raw/train-images-idx3-ubyte.gz\n"
          ],
          "name": "stdout"
        },
        {
          "output_type": "stream",
          "text": [
            "26427392it [00:01, 14512414.52it/s]                             \n"
          ],
          "name": "stderr"
        },
        {
          "output_type": "stream",
          "text": [
            "Extracting /root/.pytorch/F_MNIST_data/FashionMNIST/raw/train-images-idx3-ubyte.gz\n"
          ],
          "name": "stdout"
        },
        {
          "output_type": "stream",
          "text": [
            "\r0it [00:00, ?it/s]"
          ],
          "name": "stderr"
        },
        {
          "output_type": "stream",
          "text": [
            "Downloading http://fashion-mnist.s3-website.eu-central-1.amazonaws.com/train-labels-idx1-ubyte.gz to /root/.pytorch/F_MNIST_data/FashionMNIST/raw/train-labels-idx1-ubyte.gz\n"
          ],
          "name": "stdout"
        },
        {
          "output_type": "stream",
          "text": [
            "32768it [00:00, 100722.93it/s]           \n",
            "0it [00:00, ?it/s]"
          ],
          "name": "stderr"
        },
        {
          "output_type": "stream",
          "text": [
            "Extracting /root/.pytorch/F_MNIST_data/FashionMNIST/raw/train-labels-idx1-ubyte.gz\n",
            "Downloading http://fashion-mnist.s3-website.eu-central-1.amazonaws.com/t10k-images-idx3-ubyte.gz to /root/.pytorch/F_MNIST_data/FashionMNIST/raw/t10k-images-idx3-ubyte.gz\n"
          ],
          "name": "stdout"
        },
        {
          "output_type": "stream",
          "text": [
            "4423680it [00:01, 4308638.25it/s]                             \n",
            "0it [00:00, ?it/s]"
          ],
          "name": "stderr"
        },
        {
          "output_type": "stream",
          "text": [
            "Extracting /root/.pytorch/F_MNIST_data/FashionMNIST/raw/t10k-images-idx3-ubyte.gz\n",
            "Downloading http://fashion-mnist.s3-website.eu-central-1.amazonaws.com/t10k-labels-idx1-ubyte.gz to /root/.pytorch/F_MNIST_data/FashionMNIST/raw/t10k-labels-idx1-ubyte.gz\n"
          ],
          "name": "stdout"
        },
        {
          "output_type": "stream",
          "text": [
            "8192it [00:00, 30615.49it/s]            \n"
          ],
          "name": "stderr"
        },
        {
          "output_type": "stream",
          "text": [
            "Extracting /root/.pytorch/F_MNIST_data/FashionMNIST/raw/t10k-labels-idx1-ubyte.gz\n",
            "Processing...\n",
            "Done!\n"
          ],
          "name": "stdout"
        }
      ]
    },
    {
      "cell_type": "code",
      "metadata": {
        "id": "gWgs_nk5gPCt",
        "colab_type": "code",
        "colab": {}
      },
      "source": [
        "import matplotlib.pyplot as plt\n",
        "import numpy as np\n",
        "from torch import nn, optim\n",
        "from torch.autograd import Variable\n",
        "\n",
        "class helper:\n",
        "  def test_network(net, trainloader):\n",
        "\n",
        "      criterion = nn.MSELoss()\n",
        "      optimizer = optim.Adam(net.parameters(), lr=0.001)\n",
        "\n",
        "      dataiter = iter(trainloader)\n",
        "      images, labels = dataiter.next()\n",
        "\n",
        "      # Create Variables for the inputs and targets\n",
        "      inputs = Variable(images)\n",
        "      targets = Variable(images)\n",
        "\n",
        "      # Clear the gradients from all Variables\n",
        "      optimizer.zero_grad()\n",
        "\n",
        "      # Forward pass, then backward pass, then update weights\n",
        "      output = net.forward(inputs)\n",
        "      loss = criterion(output, targets)\n",
        "      loss.backward()\n",
        "      optimizer.step()\n",
        "\n",
        "      return True\n",
        "\n",
        "\n",
        "  def imshow(image, ax=None, title=None, normalize=True):\n",
        "      \"\"\"Imshow for Tensor.\"\"\"\n",
        "      if ax is None:\n",
        "          fig, ax = plt.subplots()\n",
        "      image = image.numpy().transpose((1, 2, 0))\n",
        "\n",
        "      if normalize:\n",
        "          mean = np.array([0.485, 0.456, 0.406])\n",
        "          std = np.array([0.229, 0.224, 0.225])\n",
        "          image = std * image + mean\n",
        "          image = np.clip(image, 0, 1)\n",
        "\n",
        "      ax.imshow(image)\n",
        "      ax.spines['top'].set_visible(False)\n",
        "      ax.spines['right'].set_visible(False)\n",
        "      ax.spines['left'].set_visible(False)\n",
        "      ax.spines['bottom'].set_visible(False)\n",
        "      ax.tick_params(axis='both', length=0)\n",
        "      ax.set_xticklabels('')\n",
        "      ax.set_yticklabels('')\n",
        "\n",
        "      return ax\n",
        "\n",
        "\n",
        "  def view_recon(img, recon):\n",
        "      ''' Function for displaying an image (as a PyTorch Tensor) and its\n",
        "          reconstruction also a PyTorch Tensor\n",
        "      '''\n",
        "\n",
        "      fig, axes = plt.subplots(ncols=2, sharex=True, sharey=True)\n",
        "      axes[0].imshow(img.numpy().squeeze())\n",
        "      axes[1].imshow(recon.data.numpy().squeeze())\n",
        "      for ax in axes:\n",
        "          ax.axis('off')\n",
        "          ax.set_adjustable('box-forced')\n",
        "\n",
        "  def view_classify(img, ps, version=\"MNIST\"):\n",
        "      ''' Function for viewing an image and it's predicted classes.\n",
        "      '''\n",
        "      ps = ps.data.numpy().squeeze()\n",
        "\n",
        "      fig, (ax1, ax2) = plt.subplots(figsize=(6,9), ncols=2)\n",
        "      ax1.imshow(img.resize_(1, 28, 28).numpy().squeeze())\n",
        "      ax1.axis('off')\n",
        "      ax2.barh(np.arange(10), ps)\n",
        "      ax2.set_aspect(0.1)\n",
        "      ax2.set_yticks(np.arange(10))\n",
        "      if version == \"MNIST\":\n",
        "          ax2.set_yticklabels(np.arange(10))\n",
        "      elif version == \"Fashion\":\n",
        "          ax2.set_yticklabels(['T-shirt/top',\n",
        "                              'Trouser',\n",
        "                              'Pullover',\n",
        "                              'Dress',\n",
        "                              'Coat',\n",
        "                              'Sandal',\n",
        "                              'Shirt',\n",
        "                              'Sneaker',\n",
        "                              'Bag',\n",
        "                              'Ankle Boot'], size='small');\n",
        "      ax2.set_title('Class Probability')\n",
        "      ax2.set_xlim(0, 1.1)\n",
        "\n",
        "      plt.tight_layout()"
      ],
      "execution_count": 0,
      "outputs": []
    },
    {
      "cell_type": "markdown",
      "metadata": {
        "id": "hiEsUro7bkOZ",
        "colab_type": "text"
      },
      "source": [
        "Here we can see one of the images."
      ]
    },
    {
      "cell_type": "code",
      "metadata": {
        "id": "udKnXCjpbkOc",
        "colab_type": "code",
        "outputId": "bf102910-e56c-489b-9ef3-318374a94978",
        "colab": {
          "base_uri": "https://localhost:8080/",
          "height": 252
        }
      },
      "source": [
        "image, label = next(iter(trainloader))\n",
        "helper.imshow(image[0,:]);"
      ],
      "execution_count": 0,
      "outputs": [
        {
          "output_type": "display_data",
          "data": {
            "image/png": "[encoded data removed]",
            "text/plain": [
              "<Figure size 432x288 with 1 Axes>"
            ]
          },
          "metadata": {
            "tags": []
          }
        }
      ]
    },
    {
      "cell_type": "markdown",
      "metadata": {
        "id": "ddDCX0nAbkOl",
        "colab_type": "text"
      },
      "source": [
        "## Building the network\n",
        "\n",
        "Here you should define your network. As with MNIST, each image is 28x28 which is a total of 784 pixels, and there are 10 classes. You should include at least one hidden layer. We suggest you use ReLU activations for the layers and to return the logits or log-softmax from the forward pass. It's up to you how many layers you add and the size of those layers."
      ]
    },
    {
      "cell_type": "code",
      "metadata": {
        "id": "dwHkN0f7bkOn",
        "colab_type": "code",
        "colab": {}
      },
      "source": [
        "# TODO: Define your network architecture here\n",
        "model = nn.Sequential(nn.Linear(784,128),\n",
        "                     nn.ReLU(),\n",
        "                     nn.Linear(128,64),\n",
        "                     nn.ReLU(),\n",
        "                     nn.Linear(64,10),\n",
        "                     nn.LogSoftmax(dim=1))"
      ],
      "execution_count": 0,
      "outputs": []
    },
    {
      "cell_type": "markdown",
      "metadata": {
        "id": "wAA1lW2HbkOv",
        "colab_type": "text"
      },
      "source": [
        "# Train the network\n",
        "\n",
        "Now you should create your network and train it. First you'll want to define [the criterion](http://pytorch.org/docs/master/nn.html#loss-functions) ( something like `nn.CrossEntropyLoss`) and [the optimizer](http://pytorch.org/docs/master/optim.html) (typically `optim.SGD` or `optim.Adam`).\n",
        "\n",
        "Then write the training code. Remember the training pass is a fairly straightforward process:\n",
        "\n",
        "* Make a forward pass through the network to get the logits \n",
        "* Use the logits to calculate the loss\n",
        "* Perform a backward pass through the network with `loss.backward()` to calculate the gradients\n",
        "* Take a step with the optimizer to update the weights\n",
        "\n",
        "By adjusting the hyperparameters (hidden units, learning rate, etc), you should be able to get the training loss below 0.4."
      ]
    },
    {
      "cell_type": "code",
      "metadata": {
        "id": "p9QajWZibkOy",
        "colab_type": "code",
        "colab": {}
      },
      "source": [
        "# TODO: Create the network, define the criterion and optimizer\n",
        "from torch import optim\n",
        "\n",
        "criterion = nn.NLLLoss()\n",
        "\n",
        "optimizer = optim.SGD(model.parameters(), lr=0.01)\n"
      ],
      "execution_count": 0,
      "outputs": []
    },
    {
      "cell_type": "code",
      "metadata": {
        "id": "jvAR9vjBbkO6",
        "colab_type": "code",
        "outputId": "7325747a-bea1-4165-ab8e-92ae038a48e1",
        "colab": {
          "base_uri": "https://localhost:8080/",
          "height": 102
        }
      },
      "source": [
        "# TODO: Train the network here\n",
        "epochs = 5\n",
        "for e in range(epochs):\n",
        "  running_loss=0\n",
        "  for images, labels in trainloader:\n",
        "      images = images.view(images.shape[0],-1)\n",
        "      optimizer.zero_grad()\n",
        "      logits = model(images)\n",
        "      loss = criterion(logits, labels)\n",
        "\n",
        "      loss.backward()\n",
        "      optimizer.step()\n",
        "      running_loss+=loss.item()\n",
        "  else:\n",
        "      print(f\"Training loss: {running_loss/len(trainloader)}\")"
      ],
      "execution_count": 0,
      "outputs": [
        {
          "output_type": "stream",
          "text": [
            "Training loss: 0.35984501354634635\n",
            "Training loss: 0.35226768048714474\n",
            "Training loss: 0.3453166172909203\n",
            "Training loss: 0.33830661711884713\n",
            "Training loss: 0.3319759823397787\n"
          ],
          "name": "stdout"
        }
      ]
    },
    {
      "cell_type": "code",
      "metadata": {
        "id": "Bgpj4o3lbkPD",
        "colab_type": "code",
        "outputId": "6f82c6f9-4132-4bf8-9cb5-c0ab276f8b94",
        "colab": {
          "base_uri": "https://localhost:8080/",
          "height": 223
        }
      },
      "source": [
        "%matplotlib inline\n",
        "%config InlineBackend.figure_format = 'retina'\n",
        "\n",
        "import helper\n",
        "\n",
        "# Test out your network!\n",
        "\n",
        "dataiter = iter(testloader)\n",
        "images, labels = dataiter.next()\n",
        "img = images[0]\n",
        "# Convert 2D image to 1D vector\n",
        "img = img.resize_(1, 784)\n",
        "\n",
        "# TODO: Calculate the class probabilities (softmax) for img\n",
        "ps = torch.exp(model(img))\n",
        "\n",
        "# Plot the image and probabilities\n",
        "view_classify(img.resize_(1, 28, 28), ps, version='Fashion')"
      ],
      "execution_count": 0,
      "outputs": [
        {
          "output_type": "display_data",
          "data": {
            "image/png": "[encoded data removed]",
            "text/plain": [
              "<Figure size 432x648 with 2 Axes>"
            ]
          },
          "metadata": {
            "tags": [],
            "image/png": {
              "width": 423,
              "height": 206
            }
          }
        }
      ]
    }
  ]
}