{
  "nbformat": 4,
  "nbformat_minor": 0,
  "metadata": {
    "colab": {
      "name": "Secure & Private AI - Udacity course- Part 2 - Neural Networks in PyTorch (Exercises).ipynb",
      "version": "0.3.2",
      "provenance": [],
      "toc_visible": true
    },
    "language_info": {
      "codemirror_mode": {
        "name": "ipython",
        "version": 3
      },
      "file_extension": ".py",
      "mimetype": "text/x-python",
      "name": "python",
      "nbconvert_exporter": "python",
      "pygments_lexer": "ipython3",
      "version": "3.6.4"
    },
    "kernelspec": {
      "name": "python3",
      "display_name": "Python 3"
    },
    "accelerator": "GPU"
  },
  "cells": [
    {
      "cell_type": "markdown",
      "metadata": {
        "id": "4N447dmGtGkz",
        "colab_type": "text"
      },
      "source": [
        "# Neural networks with PyTorch\n",
        "\n",
        "Deep learning networks tend to be massive with dozens or hundreds of layers, that's where the term \"deep\" comes from. You can build one of these deep networks using only weight matrices as we did in the previous notebook, but in general it's very cumbersome and difficult to implement. PyTorch has a nice module `nn` that provides a nice way to efficiently build large neural networks."
      ]
    },
    {
      "cell_type": "code",
      "metadata": {
        "id": "N7J3LJBdtGk6",
        "colab_type": "code",
        "colab": {}
      },
      "source": [
        "# Import necessary packages\n",
        "\n",
        "%matplotlib inline\n",
        "%config InlineBackend.figure_format = 'retina'\n",
        "\n",
        "import numpy as np\n",
        "import torch\n",
        "\n",
        "import helper\n",
        "\n",
        "import matplotlib.pyplot as plt"
      ],
      "execution_count": 0,
      "outputs": []
    },
    {
      "cell_type": "markdown",
      "metadata": {
        "id": "XfupOURStGlI",
        "colab_type": "text"
      },
      "source": [
        "\n",
        "Now we're going to build a larger network that can solve a (formerly) difficult problem, identifying text in an image. Here we'll use the MNIST dataset which consists of greyscale handwritten digits. Each image is 28x28 pixels, you can see a sample below\n",
        "\n",
        "<img src='https://github.com/udacity/deep-learning-v2-pytorch/blob/master/intro-to-pytorch/assets/mnist.png?raw=1'>\n",
        "\n",
        "Our goal is to build a neural network that can take one of these images and predict the digit in the image.\n",
        "\n",
        "First up, we need to get our dataset. This is provided through the `torchvision` package. The code below will download the MNIST dataset, then create training and test datasets for us. Don't worry too much about the details here, you'll learn more about this later."
      ]
    },
    {
      "cell_type": "code",
      "metadata": {
        "id": "jf4ot7D-tGlM",
        "colab_type": "code",
        "outputId": "b2630e94-e392-473b-a745-d819de5044f9",
        "colab": {
          "base_uri": "https://localhost:8080/",
          "height": 275
        }
      },
      "source": [
        "### Run this cell\n",
        "\n",
        "from torchvision import datasets, transforms\n",
        "\n",
        "# Define a transform to normalize the data\n",
        "transform = transforms.Compose([transforms.ToTensor(),\n",
        "                              transforms.Normalize((0.5,), (0.5,)),\n",
        "                              ])\n",
        "\n",
        "# Download and load the training data\n",
        "trainset = datasets.MNIST('~/.pytorch/MNIST_data/', download=True, train=True, transform=transform)\n",
        "trainloader = torch.utils.data.DataLoader(trainset, batch_size=64, shuffle=True)"
      ],
      "execution_count": 0,
      "outputs": [
        {
          "output_type": "stream",
          "text": [
            "\r0it [00:00, ?it/s]"
          ],
          "name": "stderr"
        },
        {
          "output_type": "stream",
          "text": [
            "Downloading http://yann.lecun.com/exdb/mnist/train-images-idx3-ubyte.gz to /root/.pytorch/MNIST_data/MNIST/raw/train-images-idx3-ubyte.gz\n"
          ],
          "name": "stdout"
        },
        {
          "output_type": "stream",
          "text": [
            "9920512it [00:02, 3661844.32it/s]                             \n"
          ],
          "name": "stderr"
        },
        {
          "output_type": "stream",
          "text": [
            "Extracting /root/.pytorch/MNIST_data/MNIST/raw/train-images-idx3-ubyte.gz\n"
          ],
          "name": "stdout"
        },
        {
          "output_type": "stream",
          "text": [
            "\r0it [00:00, ?it/s]"
          ],
          "name": "stderr"
        },
        {
          "output_type": "stream",
          "text": [
            "Downloading http://yann.lecun.com/exdb/mnist/train-labels-idx1-ubyte.gz to /root/.pytorch/MNIST_data/MNIST/raw/train-labels-idx1-ubyte.gz\n"
          ],
          "name": "stdout"
        },
        {
          "output_type": "stream",
          "text": [
            "32768it [00:00, 57158.30it/s]                           \n",
            "0it [00:00, ?it/s]"
          ],
          "name": "stderr"
        },
        {
          "output_type": "stream",
          "text": [
            "Extracting /root/.pytorch/MNIST_data/MNIST/raw/train-labels-idx1-ubyte.gz\n",
            "Downloading http://yann.lecun.com/exdb/mnist/t10k-images-idx3-ubyte.gz to /root/.pytorch/MNIST_data/MNIST/raw/t10k-images-idx3-ubyte.gz\n"
          ],
          "name": "stdout"
        },
        {
          "output_type": "stream",
          "text": [
            "1654784it [00:01, 957582.90it/s]                             \n",
            "0it [00:00, ?it/s]"
          ],
          "name": "stderr"
        },
        {
          "output_type": "stream",
          "text": [
            "Extracting /root/.pytorch/MNIST_data/MNIST/raw/t10k-images-idx3-ubyte.gz\n",
            "Downloading http://yann.lecun.com/exdb/mnist/t10k-labels-idx1-ubyte.gz to /root/.pytorch/MNIST_data/MNIST/raw/t10k-labels-idx1-ubyte.gz\n"
          ],
          "name": "stdout"
        },
        {
          "output_type": "stream",
          "text": [
            "8192it [00:00, 21448.80it/s]            "
          ],
          "name": "stderr"
        },
        {
          "output_type": "stream",
          "text": [
            "Extracting /root/.pytorch/MNIST_data/MNIST/raw/t10k-labels-idx1-ubyte.gz\n",
            "Processing...\n",
            "Done!\n"
          ],
          "name": "stdout"
        },
        {
          "output_type": "stream",
          "text": [
            "\n"
          ],
          "name": "stderr"
        }
      ]
    },
    {
      "cell_type": "markdown",
      "metadata": {
        "id": "nbNxFCbxtGlU",
        "colab_type": "text"
      },
      "source": [
        "We have the training data loaded into `trainloader` and we make that an iterator with `iter(trainloader)`. Later, we'll use this to loop through the dataset for training, like\n",
        "\n",
        "```python\n",
        "for image, label in trainloader:\n",
        "    ## do things with images and labels\n",
        "```\n",
        "\n",
        "You'll notice I created the `trainloader` with a batch size of 64, and `shuffle=True`. The batch size is the number of images we get in one iteration from the data loader and pass through our network, often called a *batch*. And `shuffle=True` tells it to shuffle the dataset every time we start going through the data loader again. But here I'm just grabbing the first batch so we can check out the data. We can see below that `images` is just a tensor with size `(64, 1, 28, 28)`. So, 64 images per batch, 1 color channel, and 28x28 images."
      ]
    },
    {
      "cell_type": "code",
      "metadata": {
        "id": "H6wZ3NYAtGlX",
        "colab_type": "code",
        "outputId": "fd409e5c-a9e4-427a-d13c-f2f560014524",
        "colab": {
          "base_uri": "https://localhost:8080/",
          "height": 68
        }
      },
      "source": [
        "dataiter = iter(trainloader)\n",
        "images, labels = dataiter.next()\n",
        "print(type(images))\n",
        "print(images.shape)\n",
        "print(labels.shape)"
      ],
      "execution_count": 0,
      "outputs": [
        {
          "output_type": "stream",
          "text": [
            "<class 'torch.Tensor'>\n",
            "torch.Size([64, 1, 28, 28])\n",
            "torch.Size([64])\n"
          ],
          "name": "stdout"
        }
      ]
    },
    {
      "cell_type": "markdown",
      "metadata": {
        "id": "D4fAyclItGlj",
        "colab_type": "text"
      },
      "source": [
        "This is what one of the images looks like. "
      ]
    },
    {
      "cell_type": "code",
      "metadata": {
        "id": "zwmaCluhtGlm",
        "colab_type": "code",
        "outputId": "43b65243-98b6-491b-8ae1-8f101369f7b2",
        "colab": {
          "base_uri": "https://localhost:8080/",
          "height": 267
        }
      },
      "source": [
        "plt.imshow(images[1].numpy().squeeze(), cmap='Greys_r');"
      ],
      "execution_count": 0,
      "outputs": [
        {
          "output_type": "display_data",
          "data": {
            "image/png": "[encoded data removed]",
            "text/plain": [
              "<Figure size 432x288 with 1 Axes>"
            ]
          },
          "metadata": {
            "tags": [],
            "image/png": {
              "width": 253,
              "height": 250
            }
          }
        }
      ]
    },
    {
      "cell_type": "markdown",
      "metadata": {
        "id": "HAhRoDEgtGlv",
        "colab_type": "text"
      },
      "source": [
        "First, let's try to build a simple network for this dataset using weight matrices and matrix multiplications. Then, we'll see how to do it using PyTorch's `nn` module which provides a much more convenient and powerful method for defining network architectures.\n",
        "\n",
        "The networks you've seen so far are called *fully-connected* or *dense* networks. Each unit in one layer is connected to each unit in the next layer. In fully-connected networks, the input to each layer must be a one-dimensional vector (which can be stacked into a 2D tensor as a batch of multiple examples). However, our images are 28x28 2D tensors, so we need to convert them into 1D vectors. Thinking about sizes, we need to convert the batch of images with shape `(64, 1, 28, 28)` to a have a shape of `(64, 784)`, 784 is 28 times 28. This is typically called *flattening*, we flattened the 2D images into 1D vectors.\n",
        "\n",
        "Previously you built a network with one output unit. Here we need 10 output units, one for each digit. We want our network to predict the digit shown in an image, so what we'll do is calculate probabilities that the image is of any one digit or class. This ends up being a discrete probability distribution over the classes (digits) that tells us the most likely class for the image. That means we need 10 output units for the 10 classes (digits). We'll see how to convert the network output into a probability distribution next.\n",
        "\n",
        "> **Exercise:** Flatten the batch of images `images`. Then build a multi-layer network with 784 input units, 256 hidden units, and 10 output units using random tensors for the weights and biases. For now, use a sigmoid activation for the hidden layer. Leave the output layer without an activation, we'll add one that gives us a probability distribution next."
      ]
    },
    {
      "cell_type": "code",
      "metadata": {
        "id": "h7wtjZ45tGlx",
        "colab_type": "code",
        "outputId": "de891287-0bfe-47f4-a64b-51a287a603e4",
        "colab": {
          "base_uri": "https://localhost:8080/",
          "height": 2193
        }
      },
      "source": [
        "## Your solution\n",
        "def activation(x):\n",
        "  return 1/(1+torch.exp(-x))\n",
        "\n",
        "n_output=10\n",
        "n_input=784\n",
        "n_hidden=256\n",
        "\n",
        "W1=torch.randn(n_input,n_hidden)\n",
        "W2=torch.randn(n_hidden,n_output)\n",
        "\n",
        "B1=torch.randn((1, n_hidden))\n",
        "B2=torch.randn((1, n_output))\n",
        "\n",
        "h=activation(torch.mm(images.view(images.shape[0],-1), W1)+B1)\n",
        "out = torch.mm(h,W2) + B2 # output of your network, should have shape (64,10)\n",
        "out.size()\n",
        "out"
      ],
      "execution_count": 0,
      "outputs": [
        {
          "output_type": "execute_result",
          "data": {
            "text/plain": [
              "tensor([[ 6.0213e+00, -9.0948e+00,  3.8644e+00, -4.0622e+00, -8.4994e+00,\n",
              "          5.3128e+00,  1.0868e+00, -1.5460e+01,  3.9346e+00, -6.3553e+00],\n",
              "        [ 4.2349e+00, -7.3084e+00, -6.0106e+00, -5.7673e+00, -7.2360e+00,\n",
              "          2.3651e+00, -6.3301e+00, -1.1385e+01,  4.0282e+00, -1.2323e+00],\n",
              "        [ 6.7781e+00,  6.6625e+00,  3.4135e-01, -6.3577e+00, -1.0835e+00,\n",
              "         -2.4802e+00, -3.8021e+00, -1.1992e+01, -8.2055e-02, -7.7785e+00],\n",
              "        [ 4.2701e+00,  8.7158e+00,  8.2913e+00, -4.4450e+00, -9.5919e+00,\n",
              "          1.4500e+00, -3.4501e+00, -7.6689e+00, -1.5052e+00, -2.9690e+00],\n",
              "        [-1.4808e-01, -3.9495e+00, -9.3131e+00, -4.6614e+00,  6.8551e+00,\n",
              "          5.3244e+00, -4.3027e+00, -8.0837e+00,  6.0145e+00, -2.5221e-01],\n",
              "        [-7.5041e-01, -1.0892e+00, -9.6027e+00, -2.2055e+01, -1.3680e+01,\n",
              "          4.5689e+00, -1.0932e+00, -2.2007e+01,  1.0761e+01, -7.1050e-01],\n",
              "        [ 1.2755e+01, -1.1428e+00, -1.2796e+01, -8.5393e+00, -1.2545e+01,\n",
              "         -2.4110e+00, -8.1328e+00, -1.7091e+01, -2.3165e+00,  5.8552e+00],\n",
              "        [ 1.6834e+00, -1.8921e+00,  8.6076e+00, -1.5846e+01, -1.7513e+01,\n",
              "          4.5578e+00,  4.3786e+00, -6.4888e+00,  5.3248e+00, -6.3623e+00],\n",
              "        [ 1.4783e+01, -7.9270e+00, -1.8658e+00, -5.1811e+00, -7.5559e+00,\n",
              "          3.6740e+00, -9.6717e+00, -7.4265e+00,  2.6113e-01, -6.0735e+00],\n",
              "        [ 1.6454e+01,  3.8283e+00,  3.9418e+00, -1.1175e+01, -1.1750e+01,\n",
              "          5.0597e+00, -1.2788e+01, -2.1957e+01,  7.2912e+00,  4.9444e+00],\n",
              "        [ 1.3756e+01, -6.5305e+00, -3.0127e-01, -1.8217e+00, -8.0163e+00,\n",
              "          1.1121e+00, -8.8515e+00, -8.1035e+00,  1.4702e-01, -1.1562e+00],\n",
              "        [ 1.4595e+01, -3.9551e+00,  4.2401e+00, -1.0647e+01, -1.9496e+01,\n",
              "          1.3113e-01,  5.8833e+00, -5.4037e+00,  1.2150e+01, -7.3487e+00],\n",
              "        [ 1.3276e+01, -3.1699e+00,  1.8886e+00, -7.4473e+00, -1.5529e+01,\n",
              "          7.0561e+00, -7.4909e+00, -1.1214e+01,  6.0805e+00,  8.9760e-03],\n",
              "        [ 4.1813e-01, -3.4651e+00, -1.5819e+00, -1.0896e+01, -1.4925e+01,\n",
              "         -2.5310e+00, -3.8549e+00, -1.4511e+01, -5.9453e+00, -3.3275e+00],\n",
              "        [ 1.1762e+01,  1.4260e-01,  1.3823e+00, -1.3795e+01, -1.1338e+00,\n",
              "          5.1825e+00,  2.8289e+00, -7.3430e+00,  2.3582e+00, -5.4483e+00],\n",
              "        [ 1.1748e+01, -4.8844e+00, -1.4686e+00, -4.2246e+00,  6.0172e+00,\n",
              "          1.2987e+00, -1.0995e+01, -1.5135e+01,  4.7529e+00, -1.1292e+01],\n",
              "        [ 7.7135e+00, -8.5981e+00,  1.9833e+00, -4.7098e+00, -1.2138e+01,\n",
              "         -1.9677e+00, -5.2517e+00, -1.7072e+01,  2.9304e+00,  1.3245e+00],\n",
              "        [-1.1057e+00, -1.6501e+00, -4.0238e+00, -8.4641e+00, -5.8285e+00,\n",
              "         -3.6073e+00, -1.3647e+00, -4.8061e+00,  7.3053e+00, -9.2078e-01],\n",
              "        [ 6.3486e+00, -1.6444e+00,  1.1483e+00, -6.9554e+00, -1.9079e+01,\n",
              "         -6.2828e+00,  3.1372e+00, -1.0277e+01, -4.2216e+00,  3.1937e+00],\n",
              "        [ 3.8253e+00, -6.0934e+00,  1.2934e-01, -7.9178e+00, -1.1192e+01,\n",
              "          3.3193e+00, -6.4385e+00, -1.4058e+01,  6.1056e+00, -5.4755e+00],\n",
              "        [ 2.3233e+01, -4.1537e+00,  5.9567e+00, -9.2516e+00, -1.5615e+01,\n",
              "         -4.1703e+00,  4.8128e+00, -9.6120e+00,  1.2337e+00,  4.1012e+00],\n",
              "        [ 1.5803e+01, -4.8303e+00,  8.9879e+00, -1.0466e+01, -1.6861e+01,\n",
              "          3.4789e+00, -4.3440e+00, -7.8776e+00,  6.0036e+00, -3.5830e+00],\n",
              "        [ 9.3701e+00, -1.9171e+00,  4.4812e+00, -1.0360e+01, -2.0741e+01,\n",
              "          1.4756e-01, -4.0833e+00, -1.0694e+01,  3.3974e+00,  7.6717e+00],\n",
              "        [-8.9338e+00, -1.6722e+00, -2.9681e+00, -7.8178e+00, -8.3350e-01,\n",
              "          3.9579e+00,  1.7213e+00, -1.7881e+01,  3.5559e+00,  3.8505e+00],\n",
              "        [ 8.1551e+00, -3.9892e+00,  2.9385e+00, -1.5997e+00, -9.3934e+00,\n",
              "         -1.9332e+00,  2.4796e+00, -3.1126e+00,  8.1549e+00,  1.5235e+00],\n",
              "        [ 1.3820e+01, -8.9946e+00, -1.5702e+00, -4.9818e+00, -1.2705e+01,\n",
              "          2.3917e+00, -7.3795e+00, -9.3070e+00,  2.3296e+00,  1.0134e+01],\n",
              "        [ 8.8754e+00, -8.8514e+00,  1.0389e+00, -1.3488e+01, -1.5597e+01,\n",
              "          4.8882e-01,  2.1159e-01, -1.2816e+01, -1.7769e+00, -2.6026e+00],\n",
              "        [ 6.6157e+00, -3.2275e-01, -2.2351e+00, -3.3865e-01, -1.4090e+01,\n",
              "          6.1238e+00, -7.5203e+00, -1.2080e+01,  3.1221e+00,  3.2381e+00],\n",
              "        [ 9.7949e+00,  2.0062e+00, -2.5097e+00, -1.4420e+01, -1.2843e+01,\n",
              "          5.5424e+00, -6.7526e+00, -1.6443e+01,  7.3276e+00, -7.9976e+00],\n",
              "        [ 8.6049e+00, -3.0235e+00,  3.7654e+00, -7.7873e+00, -1.5715e+01,\n",
              "         -1.4732e+00,  2.9191e+00, -1.6454e+01, -3.2800e-02, -7.7301e+00],\n",
              "        [ 7.0232e-01,  1.5465e-01, -1.2860e-01, -3.1051e+00, -1.2107e+01,\n",
              "         -1.3270e+00, -4.0708e+00, -8.0133e+00,  1.0909e+01, -1.8378e+00],\n",
              "        [ 8.0129e+00, -1.2569e+00, -6.3756e+00, -7.5137e+00, -1.7011e+01,\n",
              "          6.1147e-01, -6.6524e+00, -1.6321e+01, -2.2700e+00,  3.5696e+00],\n",
              "        [ 8.6647e-02, -5.8134e-01,  1.8239e+00, -1.1347e+01, -9.6534e+00,\n",
              "         -3.7485e+00, -7.0896e+00, -8.9312e+00,  6.4136e+00, -5.8061e+00],\n",
              "        [ 5.8624e+00, -3.0384e+00,  3.3194e+00, -1.3597e+01, -1.7653e+01,\n",
              "          1.7617e+00, -3.1963e+00, -1.0257e+01,  1.3152e+00, -5.1244e+00],\n",
              "        [ 9.4943e+00, -6.2612e+00,  2.6163e+00, -9.1252e-01, -2.1069e+01,\n",
              "         -1.4749e+01,  2.6233e+00, -2.3395e+00,  9.1219e+00, -2.4250e+00],\n",
              "        [ 8.7710e+00,  3.4332e-01,  1.0997e+01, -8.1894e+00, -1.3489e+01,\n",
              "          1.9581e+00, -2.6750e+00, -1.5977e+01, -3.0264e-01,  8.6250e-01],\n",
              "        [ 8.7456e+00, -1.0513e+00,  1.6827e+00, -1.7100e+01, -5.7213e+00,\n",
              "          5.0326e+00, -5.0103e-01, -7.3293e+00, -5.2448e+00, -5.1703e-01],\n",
              "        [ 5.5495e+00, -1.0373e+00, -3.1682e+00, -9.7352e+00, -5.6388e+00,\n",
              "          2.5197e+00,  3.6943e+00, -1.0905e+01, -5.2045e+00, -5.0752e+00],\n",
              "        [ 8.5135e+00, -8.9794e+00, -7.3908e+00, -8.2106e+00,  9.7895e-01,\n",
              "         -2.0568e+00,  1.0732e+00, -1.4776e+01,  1.1913e+00,  9.1100e-01],\n",
              "        [ 3.2734e-01, -2.6515e+00, -1.2029e+01,  2.3602e+00,  1.8945e+00,\n",
              "          1.4867e+00, -1.4331e+01, -1.3695e+01,  9.4067e+00,  2.2802e+00],\n",
              "        [ 4.1995e+00,  3.6657e+00,  9.4685e+00, -1.5550e+01, -1.9882e+01,\n",
              "         -8.9139e-01, -2.7391e+00, -2.0292e+01, -2.2954e+00, -2.8683e+00],\n",
              "        [ 8.1141e+00, -1.5790e+00, -1.1004e+00, -1.5420e+01, -1.2949e+01,\n",
              "          2.3217e+00, -4.3912e+00, -1.3572e+01,  5.0352e-01,  8.3428e+00],\n",
              "        [-1.4462e+00, -6.3573e+00, -2.0550e+00,  4.2642e+00,  6.0328e+00,\n",
              "         -3.0511e+00, -4.3078e+00, -1.4879e+01,  3.1715e-01, -5.1600e+00],\n",
              "        [ 9.4939e+00, -1.5031e+01, -7.9752e+00, -1.2223e+01, -1.0026e+01,\n",
              "         -9.4613e-01,  1.4941e+00, -7.3348e+00,  1.6696e+01,  2.4761e-01],\n",
              "        [ 1.1257e+01,  1.0394e+00, -3.2184e-01, -1.8630e+01, -1.6734e+01,\n",
              "         -3.9117e+00, -8.0103e-01, -2.3292e+01,  5.4595e+00, -8.9843e+00],\n",
              "        [-9.9451e+00, -5.7319e+00,  8.5204e-01, -3.0382e-01, -3.2763e+00,\n",
              "         -7.8922e-01, -2.1411e+00, -1.3078e+01, -8.5578e+00,  2.1618e+00],\n",
              "        [ 1.0271e+01, -6.1085e+00, -2.7263e+00, -6.7141e+00,  7.3078e-01,\n",
              "         -3.4297e+00, -7.2274e+00, -7.2268e+00,  3.3704e+00,  5.3677e+00],\n",
              "        [ 3.4254e+00, -1.4082e+01, -7.1785e+00, -1.0422e+01, -8.9030e-01,\n",
              "          4.0180e-01, -3.2632e+00, -1.1852e+01,  1.0368e+00, -5.7592e+00],\n",
              "        [ 2.0654e+01, -8.1233e+00,  4.0908e+00, -6.3123e+00, -1.7391e+01,\n",
              "         -3.1054e+00, -1.3675e+00, -1.2512e+01, -1.6917e+00,  2.1278e+00],\n",
              "        [ 6.3600e+00, -5.5771e+00,  1.2915e+00, -1.6087e+01, -1.7854e+01,\n",
              "         -2.2285e+00, -8.8136e+00, -1.4362e+01, -6.8603e+00, -2.7041e+00],\n",
              "        [ 1.0814e+01, -9.2159e-01, -1.2857e+00, -5.9169e+00, -1.4673e+01,\n",
              "         -6.1756e+00, -1.3364e+00, -1.7407e+01,  7.1029e+00, -5.3363e+00],\n",
              "        [ 7.6704e+00, -3.7988e+00,  2.2065e+00, -1.8791e+01, -5.6039e+00,\n",
              "          6.2327e-01, -6.6313e+00, -1.5177e+01,  1.4945e+00, -3.8475e+00],\n",
              "        [-8.4018e+00, -1.2673e+01, -2.6537e+00, -5.3984e+00, -1.3949e+01,\n",
              "         -3.7363e+00,  5.8560e+00, -1.5752e+01, -6.9203e-01, -7.2232e+00],\n",
              "        [ 5.8664e+00, -6.9454e-01,  3.5695e+00, -1.1209e+01, -1.6242e+01,\n",
              "          5.6653e+00, -2.5836e+00, -1.8312e+01,  7.8610e+00, -6.7291e+00],\n",
              "        [ 6.4574e+00,  9.7106e-01,  9.7576e-01, -1.3551e+01, -9.8516e+00,\n",
              "          2.0869e+00, -9.9870e+00, -1.9025e+01, -4.6133e+00,  1.1653e+01],\n",
              "        [ 9.7315e+00, -3.2223e+00, -4.3795e+00, -1.2390e+01, -2.0416e+01,\n",
              "         -6.4833e-01, -4.8787e+00, -1.2997e+01, -3.9880e+00, -9.4655e-01],\n",
              "        [ 1.7929e+00, -9.5328e-01, -5.2430e+00, -1.3779e+00, -9.2802e+00,\n",
              "         -6.5104e+00,  3.5853e+00, -1.8242e+01,  4.0405e+00, -3.0615e+00],\n",
              "        [ 6.4554e+00, -8.0881e+00, -9.0411e+00, -9.6531e+00, -5.2204e+00,\n",
              "          1.2117e+01, -1.7764e+01, -1.4650e+01,  8.6575e-01,  2.4931e+00],\n",
              "        [ 1.0294e+01, -5.3777e+00, -9.1732e-01, -1.4881e+01, -7.7776e+00,\n",
              "          4.4276e+00, -8.2932e+00, -1.0737e+01,  7.3455e+00,  1.1491e+01],\n",
              "        [ 1.7984e+01, -1.2250e+01, -1.7057e+00, -3.5603e+00, -8.6041e+00,\n",
              "          9.5797e-01, -3.5615e+00, -1.5280e+00,  1.0691e+01,  1.8820e+00],\n",
              "        [ 1.7828e+00,  1.4142e+00, -9.0329e+00, -1.3546e+01, -1.6740e+00,\n",
              "         -3.7573e+00, -5.6841e+00, -2.1934e+01,  5.9988e+00, -1.8157e+00],\n",
              "        [ 1.5508e+01, -9.2606e-01,  6.0081e-01, -5.8356e+00, -2.1607e+01,\n",
              "         -8.5774e-01, -4.2136e+00, -1.9092e+01, -4.9450e+00,  1.8624e+00],\n",
              "        [ 6.5791e+00, -2.8429e+00,  2.8963e+00, -5.8460e+00, -1.5760e+01,\n",
              "          1.8152e+00,  1.2402e+00, -1.6977e+01,  6.1246e+00,  3.9338e+00],\n",
              "        [ 4.1209e+00, -1.0714e+01, -8.6286e+00, -1.4725e+01,  1.8303e+00,\n",
              "          2.0889e+00, -4.7438e+00, -8.7728e+00,  6.7304e+00, -8.8175e-01]])"
            ]
          },
          "metadata": {
            "tags": []
          },
          "execution_count": 5
        }
      ]
    },
    {
      "cell_type": "markdown",
      "metadata": {
        "id": "GcC_EuQEtGl5",
        "colab_type": "text"
      },
      "source": [
        "Now we have 10 outputs for our network. We want to pass in an image to our network and get out a probability distribution over the classes that tells us the likely class(es) the image belongs to. Something that looks like this:\n",
        "<img src='https://github.com/udacity/deep-learning-v2-pytorch/blob/master/intro-to-pytorch/assets/image_distribution.png?raw=1' width=500px>\n",
        "\n",
        "Here we see that the probability for each class is roughly the same. This is representing an untrained network, it hasn't seen any data yet so it just returns a uniform distribution with equal probabilities for each class.\n",
        "\n",
        "To calculate this probability distribution, we often use the [**softmax** function](https://en.wikipedia.org/wiki/Softmax_function). Mathematically this looks like\n",
        "\n",
        "$$\n",
        "\\Large \\sigma(x_i) = \\cfrac{e^{x_i}}{\\sum_k^K{e^{x_k}}}\n",
        "$$\n",
        "\n",
        "What this does is squish each input $x_i$ between 0 and 1 and normalizes the values to give you a proper probability distribution where the probabilites sum up to one.\n",
        "\n",
        "> **Exercise:** Implement a function `softmax` that performs the softmax calculation and returns probability distributions for each example in the batch. Note that you'll need to pay attention to the shapes when doing this. If you have a tensor `a` with shape `(64, 10)` and a tensor `b` with shape `(64,)`, doing `a/b` will give you an error because PyTorch will try to do the division across the columns (called broadcasting) but you'll get a size mismatch. The way to think about this is for each of the 64 examples, you only want to divide by one value, the sum in the denominator. So you need `b` to have a shape of `(64, 1)`. This way PyTorch will divide the 10 values in each row of `a` by the one value in each row of `b`. Pay attention to how you take the sum as well. You'll need to define the `dim` keyword in `torch.sum`. Setting `dim=0` takes the sum across the rows while `dim=1` takes the sum across the columns."
      ]
    },
    {
      "cell_type": "code",
      "metadata": {
        "id": "o1gFbaq6tGl8",
        "colab_type": "code",
        "outputId": "983994b2-9ee9-4eb7-f1df-2413c8bc3af6",
        "colab": {
          "base_uri": "https://localhost:8080/",
          "height": 170
        }
      },
      "source": [
        "def softmax(x):\n",
        "    ## TODO: Implement the softmax function here\n",
        "    return torch.exp(x)/(torch.sum(torch.exp(x),dim=1).view(64,1))\n",
        "\n",
        "# Here, out should be the output of the network in the previous excercise with shape (64,10)\n",
        "probabilities = softmax(out)\n",
        "\n",
        "# Does it have the right shape? Should be (64, 10)\n",
        "print(probabilities.shape)\n",
        "# Does it sum to 1?\n",
        "print(probabilities.sum(dim=1))"
      ],
      "execution_count": 0,
      "outputs": [
        {
          "output_type": "stream",
          "text": [
            "torch.Size([64, 10])\n",
            "tensor([1.0000, 1.0000, 1.0000, 1.0000, 1.0000, 1.0000, 1.0000, 1.0000, 1.0000,\n",
            "        1.0000, 1.0000, 1.0000, 1.0000, 1.0000, 1.0000, 1.0000, 1.0000, 1.0000,\n",
            "        1.0000, 1.0000, 1.0000, 1.0000, 1.0000, 1.0000, 1.0000, 1.0000, 1.0000,\n",
            "        1.0000, 1.0000, 1.0000, 1.0000, 1.0000, 1.0000, 1.0000, 1.0000, 1.0000,\n",
            "        1.0000, 1.0000, 1.0000, 1.0000, 1.0000, 1.0000, 1.0000, 1.0000, 1.0000,\n",
            "        1.0000, 1.0000, 1.0000, 1.0000, 1.0000, 1.0000, 1.0000, 1.0000, 1.0000,\n",
            "        1.0000, 1.0000, 1.0000, 1.0000, 1.0000, 1.0000, 1.0000, 1.0000, 1.0000,\n",
            "        1.0000])\n"
          ],
          "name": "stdout"
        }
      ]
    },
    {
      "cell_type": "markdown",
      "metadata": {
        "id": "r63XrjpPtGmH",
        "colab_type": "text"
      },
      "source": [
        "## Building networks with PyTorch\n",
        "\n",
        "PyTorch provides a module `nn` that makes building networks much simpler. Here I'll show you how to build the same one as above with 784 inputs, 256 hidden units, 10 output units and a softmax output."
      ]
    },
    {
      "cell_type": "code",
      "metadata": {
        "id": "IaH7iIFbtGmK",
        "colab_type": "code",
        "colab": {}
      },
      "source": [
        "from torch import nn"
      ],
      "execution_count": 0,
      "outputs": []
    },
    {
      "cell_type": "code",
      "metadata": {
        "id": "8vjp9VKptGmX",
        "colab_type": "code",
        "colab": {}
      },
      "source": [
        "class Network(nn.Module):\n",
        "    def __init__(self):\n",
        "        super().__init__()\n",
        "        \n",
        "        # Inputs to hidden layer linear transformation\n",
        "        self.hidden = nn.Linear(784, 256)\n",
        "        # Output layer, 10 units - one for each digit\n",
        "        self.output = nn.Linear(256, 10)\n",
        "        \n",
        "        # Define sigmoid activation and softmax output \n",
        "        self.sigmoid = nn.Sigmoid()\n",
        "        self.softmax = nn.Softmax(dim=1)\n",
        "        \n",
        "    def forward(self, x):\n",
        "        # Pass the input tensor through each of our operations\n",
        "        x = self.hidden(x)\n",
        "        x = self.sigmoid(x)\n",
        "        x = self.output(x)\n",
        "        x = self.softmax(x)\n",
        "        \n",
        "        return x"
      ],
      "execution_count": 0,
      "outputs": []
    },
    {
      "cell_type": "markdown",
      "metadata": {
        "id": "HSQve-MqtGmh",
        "colab_type": "text"
      },
      "source": [
        "Let's go through this bit by bit.\n",
        "\n",
        "```python\n",
        "class Network(nn.Module):\n",
        "```\n",
        "\n",
        "Here we're inheriting from `nn.Module`. Combined with `super().__init__()` this creates a class that tracks the architecture and provides a lot of useful methods and attributes. It is mandatory to inherit from `nn.Module` when you're creating a class for your network. The name of the class itself can be anything.\n",
        "\n",
        "```python\n",
        "self.hidden = nn.Linear(784, 256)\n",
        "```\n",
        "\n",
        "This line creates a module for a linear transformation, $x\\mathbf{W} + b$, with 784 inputs and 256 outputs and assigns it to `self.hidden`. The module automatically creates the weight and bias tensors which we'll use in the `forward` method. You can access the weight and bias tensors once the network (`net`) is created with `net.hidden.weight` and `net.hidden.bias`.\n",
        "\n",
        "```python\n",
        "self.output = nn.Linear(256, 10)\n",
        "```\n",
        "\n",
        "Similarly, this creates another linear transformation with 256 inputs and 10 outputs.\n",
        "\n",
        "```python\n",
        "self.sigmoid = nn.Sigmoid()\n",
        "self.softmax = nn.Softmax(dim=1)\n",
        "```\n",
        "\n",
        "Here I defined operations for the sigmoid activation and softmax output. Setting `dim=1` in `nn.Softmax(dim=1)` calculates softmax across the columns.\n",
        "\n",
        "```python\n",
        "def forward(self, x):\n",
        "```\n",
        "\n",
        "PyTorch networks created with `nn.Module` must have a `forward` method defined. It takes in a tensor `x` and passes it through the operations you defined in the `__init__` method.\n",
        "\n",
        "```python\n",
        "x = self.hidden(x)\n",
        "x = self.sigmoid(x)\n",
        "x = self.output(x)\n",
        "x = self.softmax(x)\n",
        "```\n",
        "\n",
        "Here the input tensor `x` is passed through each operation and reassigned to `x`. We can see that the input tensor goes through the hidden layer, then a sigmoid function, then the output layer, and finally the softmax function. It doesn't matter what you name the variables here, as long as the inputs and outputs of the operations match the network architecture you want to build. The order in which you define things in the `__init__` method doesn't matter, but you'll need to sequence the operations correctly in the `forward` method.\n",
        "\n",
        "Now we can create a `Network` object."
      ]
    },
    {
      "cell_type": "code",
      "metadata": {
        "id": "Y_0nJD17tGmk",
        "colab_type": "code",
        "outputId": "041aaec0-1443-4fbd-ac80-4692dd62840d",
        "colab": {
          "base_uri": "https://localhost:8080/",
          "height": 119
        }
      },
      "source": [
        "# Create the network and look at it's text representation\n",
        "model = Network()\n",
        "model"
      ],
      "execution_count": 0,
      "outputs": [
        {
          "output_type": "execute_result",
          "data": {
            "text/plain": [
              "Network(\n",
              "  (hidden): Linear(in_features=784, out_features=256, bias=True)\n",
              "  (output): Linear(in_features=256, out_features=10, bias=True)\n",
              "  (sigmoid): Sigmoid()\n",
              "  (softmax): Softmax()\n",
              ")"
            ]
          },
          "metadata": {
            "tags": []
          },
          "execution_count": 9
        }
      ]
    },
    {
      "cell_type": "markdown",
      "metadata": {
        "id": "WDUR9rZ1tGmr",
        "colab_type": "text"
      },
      "source": [
        "You can define the network somewhat more concisely and clearly using the `torch.nn.functional` module. This is the most common way you'll see networks defined as many operations are simple element-wise functions. We normally import this module as `F`, `import torch.nn.functional as F`."
      ]
    },
    {
      "cell_type": "code",
      "metadata": {
        "id": "gRJSoog5tGmv",
        "colab_type": "code",
        "colab": {}
      },
      "source": [
        "import torch.nn.functional as F\n",
        "\n",
        "class Network(nn.Module):\n",
        "    def __init__(self):\n",
        "        super().__init__()\n",
        "        # Inputs to hidden layer linear transformation\n",
        "        self.hidden = nn.Linear(784, 256)\n",
        "        # Output layer, 10 units - one for each digit\n",
        "        self.output = nn.Linear(256, 10)\n",
        "        \n",
        "    def forward(self, x):\n",
        "        # Hidden layer with sigmoid activation\n",
        "        x = F.sigmoid(self.hidden(x))\n",
        "        # Output layer with softmax activation\n",
        "        x = F.softmax(self.output(x), dim=1)\n",
        "        \n",
        "        return x"
      ],
      "execution_count": 0,
      "outputs": []
    },
    {
      "cell_type": "markdown",
      "metadata": {
        "id": "aZjKcbvXtGm3",
        "colab_type": "text"
      },
      "source": [
        "### Activation functions\n",
        "\n",
        "So far we've only been looking at the sigmoid activation function, but in general any function can be used as an activation function. The only requirement is that for a network to approximate a non-linear function, the activation functions must be non-linear. Here are a few more examples of common activation functions: Tanh (hyperbolic tangent), and ReLU (rectified linear unit).\n",
        "\n",
        "<img src=\"https://github.com/udacity/deep-learning-v2-pytorch/blob/master/intro-to-pytorch/assets/activation.png?raw=1\" width=700px>\n",
        "\n",
        "In practice, the ReLU function is used almost exclusively as the activation function for hidden layers."
      ]
    },
    {
      "cell_type": "markdown",
      "metadata": {
        "id": "owjOdjZ8tGm5",
        "colab_type": "text"
      },
      "source": [
        "### Your Turn to Build a Network\n",
        "\n",
        "<img src=\"https://github.com/udacity/deep-learning-v2-pytorch/blob/master/intro-to-pytorch/assets/mlp_mnist.png?raw=1\" width=600px>\n",
        "\n",
        "> **Exercise:** Create a network with 784 input units, a hidden layer with 128 units and a ReLU activation, then a hidden layer with 64 units and a ReLU activation, and finally an output layer with a softmax activation as shown above. You can use a ReLU activation with the `nn.ReLU` module or `F.relu` function.\n",
        "\n",
        "It's good practice to name your layers by their type of network, for instance 'fc' to represent a fully-connected layer. As you code your solution, use `fc1`, `fc2`, and `fc3` as your layer names."
      ]
    },
    {
      "cell_type": "code",
      "metadata": {
        "scrolled": true,
        "id": "ap63-rkgtGm9",
        "colab_type": "code",
        "outputId": "39eee750-ff17-4570-8213-4b181002e2dd",
        "colab": {
          "base_uri": "https://localhost:8080/",
          "height": 102
        }
      },
      "source": [
        "## Your solution here\n",
        "class myNetwork(nn.Module):\n",
        "  def __init__(self):\n",
        "    super().__init__()\n",
        "    self.fc1=nn.Linear(784,128)\n",
        "    self.fc2=nn.Linear(128,64)\n",
        "    self.fc3=nn.Linear(64,10)\n",
        "    \n",
        "  def forward(self,x):\n",
        "    x=F.relu(self.fc1(x))\n",
        "    x=F.relu(self.fc2(x))\n",
        "    x=F.softmax(self.fc3(x),dim=1)\n",
        "    return x\n",
        "  \n",
        "model=myNetwork()\n",
        "model\n"
      ],
      "execution_count": 0,
      "outputs": [
        {
          "output_type": "execute_result",
          "data": {
            "text/plain": [
              "myNetwork(\n",
              "  (fc1): Linear(in_features=784, out_features=128, bias=True)\n",
              "  (fc2): Linear(in_features=128, out_features=64, bias=True)\n",
              "  (fc3): Linear(in_features=64, out_features=10, bias=True)\n",
              ")"
            ]
          },
          "metadata": {
            "tags": []
          },
          "execution_count": 11
        }
      ]
    },
    {
      "cell_type": "markdown",
      "metadata": {
        "id": "FOvSlw52tGnH",
        "colab_type": "text"
      },
      "source": [
        "### Initializing weights and biases\n",
        "\n",
        "The weights and such are automatically initialized for you, but it's possible to customize how they are initialized. The weights and biases are tensors attached to the layer you defined, you can get them with `model.fc1.weight` for instance."
      ]
    },
    {
      "cell_type": "code",
      "metadata": {
        "id": "_HI0zJJhtGnJ",
        "colab_type": "code",
        "outputId": "882df1ab-72bd-4d6b-f961-ada92dd3a6dc",
        "colab": {
          "base_uri": "https://localhost:8080/",
          "height": 561
        }
      },
      "source": [
        "print(model.fc1.weight)\n",
        "print(model.fc1.bias)"
      ],
      "execution_count": 0,
      "outputs": [
        {
          "output_type": "stream",
          "text": [
            "Parameter containing:\n",
            "tensor([[-2.5351e-02, -1.0696e-02,  5.8650e-03,  ...,  1.6063e-02,\n",
            "         -5.2198e-04,  2.7103e-02],\n",
            "        [-2.6285e-02,  9.2511e-03, -3.2975e-02,  ...,  2.2941e-02,\n",
            "          2.3153e-02,  2.8283e-02],\n",
            "        [-6.9841e-03, -5.2006e-03,  3.9402e-05,  ...,  2.7379e-02,\n",
            "         -2.0000e-02, -2.2755e-02],\n",
            "        ...,\n",
            "        [ 3.6393e-03, -1.6349e-02, -3.4908e-02,  ...,  3.2332e-02,\n",
            "         -2.8819e-02, -3.2824e-02],\n",
            "        [-1.1619e-02, -1.0060e-02,  1.1927e-02,  ...,  1.4329e-02,\n",
            "         -3.4991e-02, -8.4096e-03],\n",
            "        [ 3.3850e-02,  2.7939e-02,  2.8108e-02,  ...,  2.1618e-03,\n",
            "         -3.5182e-03,  2.6176e-02]], requires_grad=True)\n",
            "Parameter containing:\n",
            "tensor([-0.0112,  0.0070, -0.0168,  0.0012,  0.0331,  0.0175,  0.0095, -0.0309,\n",
            "        -0.0198,  0.0242, -0.0104, -0.0008, -0.0111, -0.0131, -0.0231,  0.0239,\n",
            "         0.0274,  0.0355, -0.0094, -0.0334,  0.0001, -0.0349, -0.0145, -0.0330,\n",
            "        -0.0072, -0.0044, -0.0087,  0.0062, -0.0343,  0.0193, -0.0341, -0.0318,\n",
            "         0.0032, -0.0077,  0.0203,  0.0018,  0.0021,  0.0328,  0.0220,  0.0219,\n",
            "         0.0105,  0.0207,  0.0308,  0.0151, -0.0231, -0.0352,  0.0310, -0.0260,\n",
            "         0.0304, -0.0015,  0.0184,  0.0067, -0.0024,  0.0320, -0.0227,  0.0059,\n",
            "        -0.0087, -0.0098, -0.0104,  0.0075, -0.0202,  0.0308,  0.0127,  0.0057,\n",
            "        -0.0004,  0.0017, -0.0258, -0.0082,  0.0160,  0.0208,  0.0079,  0.0281,\n",
            "        -0.0177, -0.0274,  0.0195, -0.0182, -0.0037,  0.0256, -0.0209,  0.0051,\n",
            "        -0.0225,  0.0215, -0.0026, -0.0179,  0.0118,  0.0304,  0.0188, -0.0131,\n",
            "         0.0341,  0.0289,  0.0109,  0.0344,  0.0130,  0.0213, -0.0218,  0.0224,\n",
            "        -0.0249, -0.0253,  0.0187,  0.0002, -0.0184,  0.0123,  0.0149, -0.0225,\n",
            "         0.0051, -0.0246,  0.0186, -0.0091,  0.0154,  0.0160,  0.0034,  0.0323,\n",
            "         0.0243, -0.0160, -0.0141, -0.0048, -0.0074,  0.0206, -0.0063,  0.0262,\n",
            "         0.0265,  0.0277, -0.0080, -0.0171, -0.0056, -0.0316,  0.0158,  0.0265],\n",
            "       requires_grad=True)\n"
          ],
          "name": "stdout"
        }
      ]
    },
    {
      "cell_type": "markdown",
      "metadata": {
        "id": "3W4agZHTtGnS",
        "colab_type": "text"
      },
      "source": [
        "For custom initialization, we want to modify these tensors in place. These are actually autograd *Variables*, so we need to get back the actual tensors with `model.fc1.weight.data`. Once we have the tensors, we can fill them with zeros (for biases) or random normal values."
      ]
    },
    {
      "cell_type": "code",
      "metadata": {
        "id": "LoNqxeALtGnU",
        "colab_type": "code",
        "outputId": "14c0f35d-4acb-41d2-c857-02ffdb455eec",
        "colab": {
          "base_uri": "https://localhost:8080/",
          "height": 119
        }
      },
      "source": [
        "# Set biases to all zeros\n",
        "model.fc1.bias.data.fill_(0)"
      ],
      "execution_count": 0,
      "outputs": [
        {
          "output_type": "execute_result",
          "data": {
            "text/plain": [
              "tensor([0., 0., 0., 0., 0., 0., 0., 0., 0., 0., 0., 0., 0., 0., 0., 0., 0., 0., 0., 0., 0., 0., 0., 0.,\n",
              "        0., 0., 0., 0., 0., 0., 0., 0., 0., 0., 0., 0., 0., 0., 0., 0., 0., 0., 0., 0., 0., 0., 0., 0.,\n",
              "        0., 0., 0., 0., 0., 0., 0., 0., 0., 0., 0., 0., 0., 0., 0., 0., 0., 0., 0., 0., 0., 0., 0., 0.,\n",
              "        0., 0., 0., 0., 0., 0., 0., 0., 0., 0., 0., 0., 0., 0., 0., 0., 0., 0., 0., 0., 0., 0., 0., 0.,\n",
              "        0., 0., 0., 0., 0., 0., 0., 0., 0., 0., 0., 0., 0., 0., 0., 0., 0., 0., 0., 0., 0., 0., 0., 0.,\n",
              "        0., 0., 0., 0., 0., 0., 0., 0.])"
            ]
          },
          "metadata": {
            "tags": []
          },
          "execution_count": 13
        }
      ]
    },
    {
      "cell_type": "code",
      "metadata": {
        "id": "xyNdhZfztGnd",
        "colab_type": "code",
        "outputId": "5fbe4703-ae6b-4e3c-9a5c-cbb05e7ada15",
        "colab": {
          "base_uri": "https://localhost:8080/",
          "height": 238
        }
      },
      "source": [
        "# sample from random normal with standard dev = 0.01\n",
        "model.fc1.weight.data.normal_(std=0.01)"
      ],
      "execution_count": 0,
      "outputs": [
        {
          "output_type": "execute_result",
          "data": {
            "text/plain": [
              "tensor([[-1.7878e-03, -5.4439e-03, -3.9513e-03,  ...,  8.4061e-03,\n",
              "          1.4712e-03,  1.9179e-02],\n",
              "        [-6.4120e-05,  2.3241e-02, -1.0669e-02,  ...,  1.2304e-02,\n",
              "         -6.6850e-03,  5.5517e-03],\n",
              "        [ 2.2219e-03,  3.4955e-04,  7.7451e-03,  ...,  1.4156e-02,\n",
              "          5.0696e-03,  1.1864e-02],\n",
              "        ...,\n",
              "        [ 1.9958e-02, -1.5425e-02, -1.3462e-02,  ...,  7.7696e-03,\n",
              "         -4.0489e-03, -1.9317e-02],\n",
              "        [-9.6847e-03,  4.5743e-03, -2.0580e-04,  ...,  3.2153e-03,\n",
              "         -3.4872e-03, -2.1788e-02],\n",
              "        [-1.3978e-02, -3.4843e-03,  3.5338e-03,  ...,  3.5610e-03,\n",
              "          6.8965e-03,  3.3842e-03]])"
            ]
          },
          "metadata": {
            "tags": []
          },
          "execution_count": 14
        }
      ]
    },
    {
      "cell_type": "code",
      "metadata": {
        "id": "eYFwsswPHGYX",
        "colab_type": "code",
        "colab": {}
      },
      "source": [
        "import matplotlib.pyplot as plt\n",
        "import numpy as np\n",
        "def view_classify(img, ps, version=\"MNIST\"):\n",
        "    ''' Function for viewing an image and it's predicted classes.\n",
        "    '''\n",
        "    ps = ps.data.numpy().squeeze()\n",
        "\n",
        "    fig, (ax1, ax2) = plt.subplots(figsize=(6,9), ncols=2)\n",
        "    ax1.imshow(img.resize_(1, 28, 28).numpy().squeeze())\n",
        "    ax1.axis('off')\n",
        "    ax2.barh(np.arange(10), ps)\n",
        "    ax2.set_aspect(0.1)\n",
        "    ax2.set_yticks(np.arange(10))\n",
        "    if version == \"MNIST\":\n",
        "        ax2.set_yticklabels(np.arange(10))\n",
        "    elif version == \"Fashion\":\n",
        "        ax2.set_yticklabels(['T-shirt/top',\n",
        "                            'Trouser',\n",
        "                            'Pullover',\n",
        "                            'Dress',\n",
        "                            'Coat',\n",
        "                            'Sandal',\n",
        "                            'Shirt',\n",
        "                            'Sneaker',\n",
        "                            'Bag',\n",
        "                            'Ankle Boot'], size='small');\n",
        "    ax2.set_title('Class Probability')\n",
        "    ax2.set_xlim(0, 1.1)\n",
        "\n",
        "    plt.tight_layout()"
      ],
      "execution_count": 0,
      "outputs": []
    },
    {
      "cell_type": "markdown",
      "metadata": {
        "id": "zeb8XUYbtGno",
        "colab_type": "text"
      },
      "source": [
        "### Forward pass\n",
        "\n",
        "Now that we have a network, let's see what happens when we pass in an image."
      ]
    },
    {
      "cell_type": "code",
      "metadata": {
        "id": "CTrPY3KXtGnr",
        "colab_type": "code",
        "outputId": "d85018d8-6d4d-4efa-df2a-14726a5fa4d6",
        "colab": {
          "base_uri": "https://localhost:8080/",
          "height": 243
        }
      },
      "source": [
        "# Grab some data \n",
        "dataiter = iter(trainloader)\n",
        "images, labels = dataiter.next()\n",
        "\n",
        "# Resize images into a 1D vector, new shape is (batch size, color channels, image pixels) \n",
        "images.resize_(64, 1, 784)\n",
        "# or images.resize_(images.shape[0], 1, 784) to automatically get batch size\n",
        "\n",
        "# Forward pass through the network\n",
        "img_idx = 0\n",
        "ps = model.forward(images[img_idx,:])\n",
        "\n",
        "img = images[img_idx]\n",
        "view_classify(img.view(1, 28, 28), ps)"
      ],
      "execution_count": 0,
      "outputs": [
        {
          "output_type": "display_data",
          "data": {
            "image/png": "[encoded data removed]",
            "text/plain": [
              "<Figure size 432x648 with 2 Axes>"
            ]
          },
          "metadata": {
            "tags": [],
            "image/png": {
              "width": 423,
              "height": 226
            }
          }
        }
      ]
    },
    {
      "cell_type": "markdown",
      "metadata": {
        "id": "kJE47WAFtGn9",
        "colab_type": "text"
      },
      "source": [
        "As you can see above, our network has basically no idea what this digit is. It's because we haven't trained it yet, all the weights are random!\n",
        "\n",
        "### Using `nn.Sequential`\n",
        "\n",
        "PyTorch provides a convenient way to build networks like this where a tensor is passed sequentially through operations, `nn.Sequential` ([documentation](https://pytorch.org/docs/master/nn.html#torch.nn.Sequential)). Using this to build the equivalent network:"
      ]
    },
    {
      "cell_type": "code",
      "metadata": {
        "id": "4NjNF4oTtGn_",
        "colab_type": "code",
        "outputId": "a81f07d3-cee0-4f3a-f86e-8f4659bfa0dd",
        "colab": {
          "base_uri": "https://localhost:8080/",
          "height": 333
        }
      },
      "source": [
        "# Hyperparameters for our network\n",
        "input_size = 784\n",
        "hidden_sizes = [128, 64]\n",
        "output_size = 10\n",
        "\n",
        "# Build a feed-forward network\n",
        "model = nn.Sequential(nn.Linear(input_size, hidden_sizes[0]),\n",
        "                      nn.ReLU(),\n",
        "                      nn.Linear(hidden_sizes[0], hidden_sizes[1]),\n",
        "                      nn.ReLU(),\n",
        "                      nn.Linear(hidden_sizes[1], output_size),\n",
        "                      nn.Softmax(dim=1))\n",
        "print(model)\n",
        "\n",
        "# Forward pass through the network and display output\n",
        "images, labels = next(iter(trainloader))\n",
        "images.resize_(images.shape[0], 1, 784)\n",
        "ps = model.forward(images[0,:])\n",
        "helper.view_classify(images[0].view(1, 28, 28), ps)"
      ],
      "execution_count": 0,
      "outputs": [
        {
          "output_type": "stream",
          "text": [
            "Sequential(\n",
            "  (0): Linear(in_features=784, out_features=128, bias=True)\n",
            "  (1): ReLU()\n",
            "  (2): Linear(in_features=128, out_features=64, bias=True)\n",
            "  (3): ReLU()\n",
            "  (4): Linear(in_features=64, out_features=10, bias=True)\n",
            "  (5): Softmax()\n",
            ")\n"
          ],
          "name": "stdout"
        },
        {
          "output_type": "error",
          "ename": "AttributeError",
          "evalue": "ignored",
          "traceback": [
            "\u001b[0;31m---------------------------------------------------------------------------\u001b[0m",
            "\u001b[0;31mAttributeError\u001b[0m                            Traceback (most recent call last)",
            "\u001b[0;32m<ipython-input-17-c280e5febbb4>\u001b[0m in \u001b[0;36m<module>\u001b[0;34m()\u001b[0m\n\u001b[1;32m     16\u001b[0m \u001b[0mimages\u001b[0m\u001b[0;34m.\u001b[0m\u001b[0mresize_\u001b[0m\u001b[0;34m(\u001b[0m\u001b[0mimages\u001b[0m\u001b[0;34m.\u001b[0m\u001b[0mshape\u001b[0m\u001b[0;34m[\u001b[0m\u001b[0;36m0\u001b[0m\u001b[0;34m]\u001b[0m\u001b[0;34m,\u001b[0m \u001b[0;36m1\u001b[0m\u001b[0;34m,\u001b[0m \u001b[0;36m784\u001b[0m\u001b[0;34m)\u001b[0m\u001b[0;34m\u001b[0m\u001b[0;34m\u001b[0m\u001b[0m\n\u001b[1;32m     17\u001b[0m \u001b[0mps\u001b[0m \u001b[0;34m=\u001b[0m \u001b[0mmodel\u001b[0m\u001b[0;34m.\u001b[0m\u001b[0mforward\u001b[0m\u001b[0;34m(\u001b[0m\u001b[0mimages\u001b[0m\u001b[0;34m[\u001b[0m\u001b[0;36m0\u001b[0m\u001b[0;34m,\u001b[0m\u001b[0;34m:\u001b[0m\u001b[0;34m]\u001b[0m\u001b[0;34m)\u001b[0m\u001b[0;34m\u001b[0m\u001b[0;34m\u001b[0m\u001b[0m\n\u001b[0;32m---> 18\u001b[0;31m \u001b[0mhelper\u001b[0m\u001b[0;34m.\u001b[0m\u001b[0mview_classify\u001b[0m\u001b[0;34m(\u001b[0m\u001b[0mimages\u001b[0m\u001b[0;34m[\u001b[0m\u001b[0;36m0\u001b[0m\u001b[0;34m]\u001b[0m\u001b[0;34m.\u001b[0m\u001b[0mview\u001b[0m\u001b[0;34m(\u001b[0m\u001b[0;36m1\u001b[0m\u001b[0;34m,\u001b[0m \u001b[0;36m28\u001b[0m\u001b[0;34m,\u001b[0m \u001b[0;36m28\u001b[0m\u001b[0;34m)\u001b[0m\u001b[0;34m,\u001b[0m \u001b[0mps\u001b[0m\u001b[0;34m)\u001b[0m\u001b[0;34m\u001b[0m\u001b[0;34m\u001b[0m\u001b[0m\n\u001b[0m",
            "\u001b[0;31mAttributeError\u001b[0m: module 'helper' has no attribute 'view_classify'"
          ]
        }
      ]
    },
    {
      "cell_type": "markdown",
      "metadata": {
        "id": "_sw-ET0vtGoJ",
        "colab_type": "text"
      },
      "source": [
        "Here our model is the same as before: 784 input units, a hidden layer with 128 units, ReLU activation, 64 unit hidden layer, another ReLU, then the output layer with 10 units, and the softmax output.\n",
        "\n",
        "The operations are available by passing in the appropriate index. For example, if you want to get first Linear operation and look at the weights, you'd use `model[0]`."
      ]
    },
    {
      "cell_type": "code",
      "metadata": {
        "id": "o--ITGtktGoL",
        "colab_type": "code",
        "colab": {}
      },
      "source": [
        "print(model[0])\n",
        "model[0].weight"
      ],
      "execution_count": 0,
      "outputs": []
    },
    {
      "cell_type": "markdown",
      "metadata": {
        "id": "XjMVCxaLtGoU",
        "colab_type": "text"
      },
      "source": [
        "You can also pass in an `OrderedDict` to name the individual layers and operations, instead of using incremental integers. Note that dictionary keys must be unique, so _each operation must have a different name_."
      ]
    },
    {
      "cell_type": "code",
      "metadata": {
        "id": "hPwd1f2etGoX",
        "colab_type": "code",
        "colab": {}
      },
      "source": [
        "from collections import OrderedDict\n",
        "model = nn.Sequential(OrderedDict([\n",
        "                      ('fc1', nn.Linear(input_size, hidden_sizes[0])),\n",
        "                      ('relu1', nn.ReLU()),\n",
        "                      ('fc2', nn.Linear(hidden_sizes[0], hidden_sizes[1])),\n",
        "                      ('relu2', nn.ReLU()),\n",
        "                      ('output', nn.Linear(hidden_sizes[1], output_size)),\n",
        "                      ('softmax', nn.Softmax(dim=1))]))\n",
        "model"
      ],
      "execution_count": 0,
      "outputs": []
    },
    {
      "cell_type": "markdown",
      "metadata": {
        "id": "t7HpkgvHtGol",
        "colab_type": "text"
      },
      "source": [
        "Now you can access layers either by integer or the name"
      ]
    },
    {
      "cell_type": "code",
      "metadata": {
        "id": "Q2_AGNUHtGor",
        "colab_type": "code",
        "colab": {}
      },
      "source": [
        "print(model[0])\n",
        "print(model.fc1)"
      ],
      "execution_count": 0,
      "outputs": []
    },
    {
      "cell_type": "markdown",
      "metadata": {
        "id": "J0UAUCO8tGo4",
        "colab_type": "text"
      },
      "source": [
        "In the next notebook, we'll see how we can train a neural network to accuractly predict the numbers appearing in the MNIST images."
      ]
    }
  ]
}